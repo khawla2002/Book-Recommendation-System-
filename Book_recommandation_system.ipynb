{
 "cells": [
  {
   "cell_type": "markdown",
   "id": "d0d68a20",
   "metadata": {},
   "source": [
    "# Book Recommander System"
   ]
  },
  {
   "cell_type": "markdown",
   "id": "600c0da2",
   "metadata": {},
   "source": [
    "This project aims to develop a book recommendation system using a dataset sourced from Kaggle, consisting of rich demographic information from 278,858 anonymized users along with their explicit or implicit ratings of 1,149,780 books available on the Book Crossing website. With a vast repository of user interactions and book metadata, this dataset offers a fertile ground for exploring various recommendation algorithms and techniques.\n",
    "\n",
    "Throughout this project, we will employ a combination of data preprocessing, feature engineering, and machine learning techniques to extract meaningful insights from the dataset. We will explore algorithms such as matrix factorization, nearest neighbor methods, and deep learning architectures to model user preferences and predict book recommendations accurately.\n",
    "\n",
    "Ultimately, the success of this project lies in its ability to enhance user engagement and satisfaction by delivering relevant and compelling book recommendations. By harnessing the power of data science and machine learning, we aim to empower users with the tools they need to discover, explore, and enjoy a world of literature suited to their individual interests and preferences."
   ]
  },
  {
   "cell_type": "markdown",
   "id": "f682ab93",
   "metadata": {},
   "source": [
    "## Data Preprocessing"
   ]
  },
  {
   "cell_type": "markdown",
   "id": "64f77306",
   "metadata": {},
   "source": [
    "We will start this project by first reading the dataset and then performing some data cleaning by dealing with any missing values, duplicates, outliers and any overall issue the data could have and make it suitable for our analysis."
   ]
  },
  {
   "cell_type": "code",
   "execution_count": 1501,
   "id": "8cf69c34",
   "metadata": {},
   "outputs": [],
   "source": [
    "import pandas as pd"
   ]
  },
  {
   "cell_type": "code",
   "execution_count": 1502,
   "id": "dbf67a44",
   "metadata": {},
   "outputs": [
    {
     "data": {
      "text/html": [
       "<div>\n",
       "<style scoped>\n",
       "    .dataframe tbody tr th:only-of-type {\n",
       "        vertical-align: middle;\n",
       "    }\n",
       "\n",
       "    .dataframe tbody tr th {\n",
       "        vertical-align: top;\n",
       "    }\n",
       "\n",
       "    .dataframe thead th {\n",
       "        text-align: right;\n",
       "    }\n",
       "</style>\n",
       "<table border=\"1\" class=\"dataframe\">\n",
       "  <thead>\n",
       "    <tr style=\"text-align: right;\">\n",
       "      <th></th>\n",
       "      <th>Unnamed: 0</th>\n",
       "      <th>user_id</th>\n",
       "      <th>location</th>\n",
       "      <th>age</th>\n",
       "      <th>isbn</th>\n",
       "      <th>rating</th>\n",
       "      <th>book_title</th>\n",
       "      <th>book_author</th>\n",
       "      <th>year_of_publication</th>\n",
       "      <th>publisher</th>\n",
       "      <th>img_s</th>\n",
       "      <th>img_m</th>\n",
       "      <th>img_l</th>\n",
       "      <th>Summary</th>\n",
       "      <th>Language</th>\n",
       "      <th>Category</th>\n",
       "      <th>city</th>\n",
       "      <th>state</th>\n",
       "      <th>country</th>\n",
       "    </tr>\n",
       "  </thead>\n",
       "  <tbody>\n",
       "    <tr>\n",
       "      <th>0</th>\n",
       "      <td>0</td>\n",
       "      <td>2</td>\n",
       "      <td>stockton, california, usa</td>\n",
       "      <td>18.0000</td>\n",
       "      <td>0195153448</td>\n",
       "      <td>0</td>\n",
       "      <td>Classical Mythology</td>\n",
       "      <td>Mark P. O. Morford</td>\n",
       "      <td>2002.0</td>\n",
       "      <td>Oxford University Press</td>\n",
       "      <td>http://images.amazon.com/images/P/0195153448.0...</td>\n",
       "      <td>http://images.amazon.com/images/P/0195153448.0...</td>\n",
       "      <td>http://images.amazon.com/images/P/0195153448.0...</td>\n",
       "      <td>Provides an introduction to classical myths pl...</td>\n",
       "      <td>en</td>\n",
       "      <td>['Social Science']</td>\n",
       "      <td>stockton</td>\n",
       "      <td>california</td>\n",
       "      <td>usa</td>\n",
       "    </tr>\n",
       "    <tr>\n",
       "      <th>1</th>\n",
       "      <td>1</td>\n",
       "      <td>8</td>\n",
       "      <td>timmins, ontario, canada</td>\n",
       "      <td>34.7439</td>\n",
       "      <td>0002005018</td>\n",
       "      <td>5</td>\n",
       "      <td>Clara Callan</td>\n",
       "      <td>Richard Bruce Wright</td>\n",
       "      <td>2001.0</td>\n",
       "      <td>HarperFlamingo Canada</td>\n",
       "      <td>http://images.amazon.com/images/P/0002005018.0...</td>\n",
       "      <td>http://images.amazon.com/images/P/0002005018.0...</td>\n",
       "      <td>http://images.amazon.com/images/P/0002005018.0...</td>\n",
       "      <td>In a small town in Canada, Clara Callan reluct...</td>\n",
       "      <td>en</td>\n",
       "      <td>['Actresses']</td>\n",
       "      <td>timmins</td>\n",
       "      <td>ontario</td>\n",
       "      <td>canada</td>\n",
       "    </tr>\n",
       "    <tr>\n",
       "      <th>2</th>\n",
       "      <td>2</td>\n",
       "      <td>11400</td>\n",
       "      <td>ottawa, ontario, canada</td>\n",
       "      <td>49.0000</td>\n",
       "      <td>0002005018</td>\n",
       "      <td>0</td>\n",
       "      <td>Clara Callan</td>\n",
       "      <td>Richard Bruce Wright</td>\n",
       "      <td>2001.0</td>\n",
       "      <td>HarperFlamingo Canada</td>\n",
       "      <td>http://images.amazon.com/images/P/0002005018.0...</td>\n",
       "      <td>http://images.amazon.com/images/P/0002005018.0...</td>\n",
       "      <td>http://images.amazon.com/images/P/0002005018.0...</td>\n",
       "      <td>In a small town in Canada, Clara Callan reluct...</td>\n",
       "      <td>en</td>\n",
       "      <td>['Actresses']</td>\n",
       "      <td>ottawa</td>\n",
       "      <td>ontario</td>\n",
       "      <td>canada</td>\n",
       "    </tr>\n",
       "    <tr>\n",
       "      <th>3</th>\n",
       "      <td>3</td>\n",
       "      <td>11676</td>\n",
       "      <td>n/a, n/a, n/a</td>\n",
       "      <td>34.7439</td>\n",
       "      <td>0002005018</td>\n",
       "      <td>8</td>\n",
       "      <td>Clara Callan</td>\n",
       "      <td>Richard Bruce Wright</td>\n",
       "      <td>2001.0</td>\n",
       "      <td>HarperFlamingo Canada</td>\n",
       "      <td>http://images.amazon.com/images/P/0002005018.0...</td>\n",
       "      <td>http://images.amazon.com/images/P/0002005018.0...</td>\n",
       "      <td>http://images.amazon.com/images/P/0002005018.0...</td>\n",
       "      <td>In a small town in Canada, Clara Callan reluct...</td>\n",
       "      <td>en</td>\n",
       "      <td>['Actresses']</td>\n",
       "      <td>NaN</td>\n",
       "      <td>NaN</td>\n",
       "      <td>NaN</td>\n",
       "    </tr>\n",
       "    <tr>\n",
       "      <th>4</th>\n",
       "      <td>4</td>\n",
       "      <td>41385</td>\n",
       "      <td>sudbury, ontario, canada</td>\n",
       "      <td>34.7439</td>\n",
       "      <td>0002005018</td>\n",
       "      <td>0</td>\n",
       "      <td>Clara Callan</td>\n",
       "      <td>Richard Bruce Wright</td>\n",
       "      <td>2001.0</td>\n",
       "      <td>HarperFlamingo Canada</td>\n",
       "      <td>http://images.amazon.com/images/P/0002005018.0...</td>\n",
       "      <td>http://images.amazon.com/images/P/0002005018.0...</td>\n",
       "      <td>http://images.amazon.com/images/P/0002005018.0...</td>\n",
       "      <td>In a small town in Canada, Clara Callan reluct...</td>\n",
       "      <td>en</td>\n",
       "      <td>['Actresses']</td>\n",
       "      <td>sudbury</td>\n",
       "      <td>ontario</td>\n",
       "      <td>canada</td>\n",
       "    </tr>\n",
       "  </tbody>\n",
       "</table>\n",
       "</div>"
      ],
      "text/plain": [
       "   Unnamed: 0  user_id                   location      age        isbn  \\\n",
       "0           0        2  stockton, california, usa  18.0000  0195153448   \n",
       "1           1        8   timmins, ontario, canada  34.7439  0002005018   \n",
       "2           2    11400    ottawa, ontario, canada  49.0000  0002005018   \n",
       "3           3    11676              n/a, n/a, n/a  34.7439  0002005018   \n",
       "4           4    41385   sudbury, ontario, canada  34.7439  0002005018   \n",
       "\n",
       "   rating           book_title           book_author  year_of_publication  \\\n",
       "0       0  Classical Mythology    Mark P. O. Morford               2002.0   \n",
       "1       5         Clara Callan  Richard Bruce Wright               2001.0   \n",
       "2       0         Clara Callan  Richard Bruce Wright               2001.0   \n",
       "3       8         Clara Callan  Richard Bruce Wright               2001.0   \n",
       "4       0         Clara Callan  Richard Bruce Wright               2001.0   \n",
       "\n",
       "                 publisher                                              img_s  \\\n",
       "0  Oxford University Press  http://images.amazon.com/images/P/0195153448.0...   \n",
       "1    HarperFlamingo Canada  http://images.amazon.com/images/P/0002005018.0...   \n",
       "2    HarperFlamingo Canada  http://images.amazon.com/images/P/0002005018.0...   \n",
       "3    HarperFlamingo Canada  http://images.amazon.com/images/P/0002005018.0...   \n",
       "4    HarperFlamingo Canada  http://images.amazon.com/images/P/0002005018.0...   \n",
       "\n",
       "                                               img_m  \\\n",
       "0  http://images.amazon.com/images/P/0195153448.0...   \n",
       "1  http://images.amazon.com/images/P/0002005018.0...   \n",
       "2  http://images.amazon.com/images/P/0002005018.0...   \n",
       "3  http://images.amazon.com/images/P/0002005018.0...   \n",
       "4  http://images.amazon.com/images/P/0002005018.0...   \n",
       "\n",
       "                                               img_l  \\\n",
       "0  http://images.amazon.com/images/P/0195153448.0...   \n",
       "1  http://images.amazon.com/images/P/0002005018.0...   \n",
       "2  http://images.amazon.com/images/P/0002005018.0...   \n",
       "3  http://images.amazon.com/images/P/0002005018.0...   \n",
       "4  http://images.amazon.com/images/P/0002005018.0...   \n",
       "\n",
       "                                             Summary Language  \\\n",
       "0  Provides an introduction to classical myths pl...       en   \n",
       "1  In a small town in Canada, Clara Callan reluct...       en   \n",
       "2  In a small town in Canada, Clara Callan reluct...       en   \n",
       "3  In a small town in Canada, Clara Callan reluct...       en   \n",
       "4  In a small town in Canada, Clara Callan reluct...       en   \n",
       "\n",
       "             Category      city       state country  \n",
       "0  ['Social Science']  stockton  california     usa  \n",
       "1       ['Actresses']   timmins     ontario  canada  \n",
       "2       ['Actresses']    ottawa     ontario  canada  \n",
       "3       ['Actresses']       NaN         NaN     NaN  \n",
       "4       ['Actresses']   sudbury     ontario  canada  "
      ]
     },
     "execution_count": 1502,
     "metadata": {},
     "output_type": "execute_result"
    }
   ],
   "source": [
    "dataset = pd.read_csv('/Users/khawl/Desktop/Preprocessed_data.csv')\n",
    "dataset.head()"
   ]
  },
  {
   "cell_type": "code",
   "execution_count": 1503,
   "id": "2950b7b6",
   "metadata": {},
   "outputs": [
    {
     "data": {
      "text/plain": [
       "(1031175, 19)"
      ]
     },
     "execution_count": 1503,
     "metadata": {},
     "output_type": "execute_result"
    }
   ],
   "source": [
    "dataset.shape"
   ]
  },
  {
   "cell_type": "markdown",
   "id": "acca1bbb",
   "metadata": {},
   "source": [
    "Here we can see that the dataset is composed by 19 columns and 1031175 rows.\n",
    "The rows represent random users and the columns represent a collection of information on books and on the users of those books.\n",
    "\n",
    "This dataset can be considered relatively large which can be pretty beneficial to our project. A larger dataset provides more user-item interactions, enabling the recommender system to capture a more comprehensive understanding of user preferences and item characteristics. This allows for more accurate and personalized recommendations tailored to individual user tastes.\n",
    "\n",
    "Now let's start datapreprocessing by first removing the variables that seem to give little to no valuable information to our project:"
   ]
  },
  {
   "cell_type": "code",
   "execution_count": 1504,
   "id": "97402109",
   "metadata": {},
   "outputs": [
    {
     "data": {
      "text/html": [
       "<div>\n",
       "<style scoped>\n",
       "    .dataframe tbody tr th:only-of-type {\n",
       "        vertical-align: middle;\n",
       "    }\n",
       "\n",
       "    .dataframe tbody tr th {\n",
       "        vertical-align: top;\n",
       "    }\n",
       "\n",
       "    .dataframe thead th {\n",
       "        text-align: right;\n",
       "    }\n",
       "</style>\n",
       "<table border=\"1\" class=\"dataframe\">\n",
       "  <thead>\n",
       "    <tr style=\"text-align: right;\">\n",
       "      <th></th>\n",
       "      <th>user_id</th>\n",
       "      <th>age</th>\n",
       "      <th>rating</th>\n",
       "      <th>book_title</th>\n",
       "      <th>book_author</th>\n",
       "      <th>year_of_publication</th>\n",
       "      <th>publisher</th>\n",
       "      <th>Summary</th>\n",
       "      <th>Language</th>\n",
       "      <th>Category</th>\n",
       "      <th>city</th>\n",
       "      <th>state</th>\n",
       "      <th>country</th>\n",
       "    </tr>\n",
       "  </thead>\n",
       "  <tbody>\n",
       "    <tr>\n",
       "      <th>0</th>\n",
       "      <td>2</td>\n",
       "      <td>18.0000</td>\n",
       "      <td>0</td>\n",
       "      <td>Classical Mythology</td>\n",
       "      <td>Mark P. O. Morford</td>\n",
       "      <td>2002.0</td>\n",
       "      <td>Oxford University Press</td>\n",
       "      <td>Provides an introduction to classical myths pl...</td>\n",
       "      <td>en</td>\n",
       "      <td>['Social Science']</td>\n",
       "      <td>stockton</td>\n",
       "      <td>california</td>\n",
       "      <td>usa</td>\n",
       "    </tr>\n",
       "    <tr>\n",
       "      <th>1</th>\n",
       "      <td>8</td>\n",
       "      <td>34.7439</td>\n",
       "      <td>5</td>\n",
       "      <td>Clara Callan</td>\n",
       "      <td>Richard Bruce Wright</td>\n",
       "      <td>2001.0</td>\n",
       "      <td>HarperFlamingo Canada</td>\n",
       "      <td>In a small town in Canada, Clara Callan reluct...</td>\n",
       "      <td>en</td>\n",
       "      <td>['Actresses']</td>\n",
       "      <td>timmins</td>\n",
       "      <td>ontario</td>\n",
       "      <td>canada</td>\n",
       "    </tr>\n",
       "    <tr>\n",
       "      <th>2</th>\n",
       "      <td>11400</td>\n",
       "      <td>49.0000</td>\n",
       "      <td>0</td>\n",
       "      <td>Clara Callan</td>\n",
       "      <td>Richard Bruce Wright</td>\n",
       "      <td>2001.0</td>\n",
       "      <td>HarperFlamingo Canada</td>\n",
       "      <td>In a small town in Canada, Clara Callan reluct...</td>\n",
       "      <td>en</td>\n",
       "      <td>['Actresses']</td>\n",
       "      <td>ottawa</td>\n",
       "      <td>ontario</td>\n",
       "      <td>canada</td>\n",
       "    </tr>\n",
       "    <tr>\n",
       "      <th>3</th>\n",
       "      <td>11676</td>\n",
       "      <td>34.7439</td>\n",
       "      <td>8</td>\n",
       "      <td>Clara Callan</td>\n",
       "      <td>Richard Bruce Wright</td>\n",
       "      <td>2001.0</td>\n",
       "      <td>HarperFlamingo Canada</td>\n",
       "      <td>In a small town in Canada, Clara Callan reluct...</td>\n",
       "      <td>en</td>\n",
       "      <td>['Actresses']</td>\n",
       "      <td>NaN</td>\n",
       "      <td>NaN</td>\n",
       "      <td>NaN</td>\n",
       "    </tr>\n",
       "    <tr>\n",
       "      <th>4</th>\n",
       "      <td>41385</td>\n",
       "      <td>34.7439</td>\n",
       "      <td>0</td>\n",
       "      <td>Clara Callan</td>\n",
       "      <td>Richard Bruce Wright</td>\n",
       "      <td>2001.0</td>\n",
       "      <td>HarperFlamingo Canada</td>\n",
       "      <td>In a small town in Canada, Clara Callan reluct...</td>\n",
       "      <td>en</td>\n",
       "      <td>['Actresses']</td>\n",
       "      <td>sudbury</td>\n",
       "      <td>ontario</td>\n",
       "      <td>canada</td>\n",
       "    </tr>\n",
       "  </tbody>\n",
       "</table>\n",
       "</div>"
      ],
      "text/plain": [
       "   user_id      age  rating           book_title           book_author  \\\n",
       "0        2  18.0000       0  Classical Mythology    Mark P. O. Morford   \n",
       "1        8  34.7439       5         Clara Callan  Richard Bruce Wright   \n",
       "2    11400  49.0000       0         Clara Callan  Richard Bruce Wright   \n",
       "3    11676  34.7439       8         Clara Callan  Richard Bruce Wright   \n",
       "4    41385  34.7439       0         Clara Callan  Richard Bruce Wright   \n",
       "\n",
       "   year_of_publication                publisher  \\\n",
       "0               2002.0  Oxford University Press   \n",
       "1               2001.0    HarperFlamingo Canada   \n",
       "2               2001.0    HarperFlamingo Canada   \n",
       "3               2001.0    HarperFlamingo Canada   \n",
       "4               2001.0    HarperFlamingo Canada   \n",
       "\n",
       "                                             Summary Language  \\\n",
       "0  Provides an introduction to classical myths pl...       en   \n",
       "1  In a small town in Canada, Clara Callan reluct...       en   \n",
       "2  In a small town in Canada, Clara Callan reluct...       en   \n",
       "3  In a small town in Canada, Clara Callan reluct...       en   \n",
       "4  In a small town in Canada, Clara Callan reluct...       en   \n",
       "\n",
       "             Category      city       state country  \n",
       "0  ['Social Science']  stockton  california     usa  \n",
       "1       ['Actresses']   timmins     ontario  canada  \n",
       "2       ['Actresses']    ottawa     ontario  canada  \n",
       "3       ['Actresses']       NaN         NaN     NaN  \n",
       "4       ['Actresses']   sudbury     ontario  canada  "
      ]
     },
     "execution_count": 1504,
     "metadata": {},
     "output_type": "execute_result"
    }
   ],
   "source": [
    "# using .drop(columns=[]) method to remove the unnecessary variables and then reading the data a second time\n",
    "dataset = dataset.drop(columns=['Unnamed: 0','location','isbn','img_s','img_m','img_l'])\n",
    "dataset.head()"
   ]
  },
  {
   "cell_type": "markdown",
   "id": "7c4194cd",
   "metadata": {},
   "source": [
    "I have removed the \"unnamed:0\" column because it serves in assigning an index to each row in the data but since pandas already automatically assigns a default index to each row, it is unnecessary to have it. I also removed the \"location\" column because we already have the columns \"country\",\"state\" and\"city\" that give the same information. \n",
    "\n",
    "I then removed the \"img_s\" and \"img_m\" and \"img_l\" because i don't need them either.\n",
    "\n",
    "I can notice some inconsistencies in the writing as some columns have capital letters and some don't, I will just capitalize the whole dataset. "
   ]
  },
  {
   "cell_type": "code",
   "execution_count": 1505,
   "id": "ab8809c4",
   "metadata": {},
   "outputs": [
    {
     "data": {
      "text/html": [
       "<div>\n",
       "<style scoped>\n",
       "    .dataframe tbody tr th:only-of-type {\n",
       "        vertical-align: middle;\n",
       "    }\n",
       "\n",
       "    .dataframe tbody tr th {\n",
       "        vertical-align: top;\n",
       "    }\n",
       "\n",
       "    .dataframe thead th {\n",
       "        text-align: right;\n",
       "    }\n",
       "</style>\n",
       "<table border=\"1\" class=\"dataframe\">\n",
       "  <thead>\n",
       "    <tr style=\"text-align: right;\">\n",
       "      <th></th>\n",
       "      <th>User_id</th>\n",
       "      <th>Age</th>\n",
       "      <th>Rating</th>\n",
       "      <th>Book_title</th>\n",
       "      <th>Book_author</th>\n",
       "      <th>Year_of_publication</th>\n",
       "      <th>Publisher</th>\n",
       "      <th>Summary</th>\n",
       "      <th>Language</th>\n",
       "      <th>Category</th>\n",
       "      <th>City</th>\n",
       "      <th>State</th>\n",
       "      <th>Country</th>\n",
       "    </tr>\n",
       "  </thead>\n",
       "  <tbody>\n",
       "    <tr>\n",
       "      <th>0</th>\n",
       "      <td>2</td>\n",
       "      <td>18.0000</td>\n",
       "      <td>0</td>\n",
       "      <td>Classical mythology</td>\n",
       "      <td>Mark p. o. morford</td>\n",
       "      <td>2002.0</td>\n",
       "      <td>Oxford university press</td>\n",
       "      <td>Provides an introduction to classical myths pl...</td>\n",
       "      <td>En</td>\n",
       "      <td>['social science']</td>\n",
       "      <td>Stockton</td>\n",
       "      <td>California</td>\n",
       "      <td>Usa</td>\n",
       "    </tr>\n",
       "    <tr>\n",
       "      <th>1</th>\n",
       "      <td>8</td>\n",
       "      <td>34.7439</td>\n",
       "      <td>5</td>\n",
       "      <td>Clara callan</td>\n",
       "      <td>Richard bruce wright</td>\n",
       "      <td>2001.0</td>\n",
       "      <td>Harperflamingo canada</td>\n",
       "      <td>In a small town in canada, clara callan reluct...</td>\n",
       "      <td>En</td>\n",
       "      <td>['actresses']</td>\n",
       "      <td>Timmins</td>\n",
       "      <td>Ontario</td>\n",
       "      <td>Canada</td>\n",
       "    </tr>\n",
       "    <tr>\n",
       "      <th>2</th>\n",
       "      <td>11400</td>\n",
       "      <td>49.0000</td>\n",
       "      <td>0</td>\n",
       "      <td>Clara callan</td>\n",
       "      <td>Richard bruce wright</td>\n",
       "      <td>2001.0</td>\n",
       "      <td>Harperflamingo canada</td>\n",
       "      <td>In a small town in canada, clara callan reluct...</td>\n",
       "      <td>En</td>\n",
       "      <td>['actresses']</td>\n",
       "      <td>Ottawa</td>\n",
       "      <td>Ontario</td>\n",
       "      <td>Canada</td>\n",
       "    </tr>\n",
       "    <tr>\n",
       "      <th>3</th>\n",
       "      <td>11676</td>\n",
       "      <td>34.7439</td>\n",
       "      <td>8</td>\n",
       "      <td>Clara callan</td>\n",
       "      <td>Richard bruce wright</td>\n",
       "      <td>2001.0</td>\n",
       "      <td>Harperflamingo canada</td>\n",
       "      <td>In a small town in canada, clara callan reluct...</td>\n",
       "      <td>En</td>\n",
       "      <td>['actresses']</td>\n",
       "      <td>NaN</td>\n",
       "      <td>NaN</td>\n",
       "      <td>NaN</td>\n",
       "    </tr>\n",
       "    <tr>\n",
       "      <th>4</th>\n",
       "      <td>41385</td>\n",
       "      <td>34.7439</td>\n",
       "      <td>0</td>\n",
       "      <td>Clara callan</td>\n",
       "      <td>Richard bruce wright</td>\n",
       "      <td>2001.0</td>\n",
       "      <td>Harperflamingo canada</td>\n",
       "      <td>In a small town in canada, clara callan reluct...</td>\n",
       "      <td>En</td>\n",
       "      <td>['actresses']</td>\n",
       "      <td>Sudbury</td>\n",
       "      <td>Ontario</td>\n",
       "      <td>Canada</td>\n",
       "    </tr>\n",
       "  </tbody>\n",
       "</table>\n",
       "</div>"
      ],
      "text/plain": [
       "   User_id      Age  Rating           Book_title           Book_author  \\\n",
       "0        2  18.0000       0  Classical mythology    Mark p. o. morford   \n",
       "1        8  34.7439       5         Clara callan  Richard bruce wright   \n",
       "2    11400  49.0000       0         Clara callan  Richard bruce wright   \n",
       "3    11676  34.7439       8         Clara callan  Richard bruce wright   \n",
       "4    41385  34.7439       0         Clara callan  Richard bruce wright   \n",
       "\n",
       "   Year_of_publication                Publisher  \\\n",
       "0               2002.0  Oxford university press   \n",
       "1               2001.0    Harperflamingo canada   \n",
       "2               2001.0    Harperflamingo canada   \n",
       "3               2001.0    Harperflamingo canada   \n",
       "4               2001.0    Harperflamingo canada   \n",
       "\n",
       "                                             Summary Language  \\\n",
       "0  Provides an introduction to classical myths pl...       En   \n",
       "1  In a small town in canada, clara callan reluct...       En   \n",
       "2  In a small town in canada, clara callan reluct...       En   \n",
       "3  In a small town in canada, clara callan reluct...       En   \n",
       "4  In a small town in canada, clara callan reluct...       En   \n",
       "\n",
       "             Category      City       State Country  \n",
       "0  ['social science']  Stockton  California     Usa  \n",
       "1       ['actresses']   Timmins     Ontario  Canada  \n",
       "2       ['actresses']    Ottawa     Ontario  Canada  \n",
       "3       ['actresses']       NaN         NaN     NaN  \n",
       "4       ['actresses']   Sudbury     Ontario  Canada  "
      ]
     },
     "execution_count": 1505,
     "metadata": {},
     "output_type": "execute_result"
    }
   ],
   "source": [
    "# I started by capitalizing the names of the columns using the .str.capitalize() method on the columns of the dataset\n",
    "dataset.columns = dataset.columns.str.capitalize()\n",
    "# Then I capitalized each entry in the dataset using applymap() function such that it used .capitalize method on each entry in \n",
    "# the dataset only if it is a string\n",
    "dataset = dataset.applymap(lambda x: x.capitalize() if isinstance(x, str) else x)\n",
    "dataset.head()"
   ]
  },
  {
   "cell_type": "markdown",
   "id": "40e8c13d",
   "metadata": {},
   "source": [
    "### Missing Values"
   ]
  },
  {
   "cell_type": "markdown",
   "id": "c733a2c7",
   "metadata": {},
   "source": [
    "Let's now try looking for missing values and if any, find out what insights they give us on the dataset and figure out how to deal with them."
   ]
  },
  {
   "cell_type": "code",
   "execution_count": 1506,
   "id": "c40b827f",
   "metadata": {},
   "outputs": [
    {
     "name": "stdout",
     "output_type": "stream",
     "text": [
      "Number of missing values in each column:\n",
      "User_id                    0\n",
      "Age                        0\n",
      "Rating                     0\n",
      "Book_title                 0\n",
      "Book_author                0\n",
      "Year_of_publication        0\n",
      "Publisher                  0\n",
      "Summary                    0\n",
      "Language                   0\n",
      "Category                   0\n",
      "City                   14103\n",
      "State                  22798\n",
      "Country                35374\n",
      "dtype: int64\n",
      "Percentage of missing values in the dataset:\n",
      "0.5391534302727844\n"
     ]
    }
   ],
   "source": [
    "# I used the .isna() method to detect the missing values in the dataset\n",
    "# and then I paired it with .sum() method to calculate the number of missing values detected \n",
    "# and I proceeded to store them in a variable\n",
    "missing_values = dataset.isna().sum() \n",
    "\n",
    "print(\"Number of missing values in each column:\")\n",
    "print(missing_values)\n",
    "\n",
    "# I used the .sum() method to calculate the total number of missing values in the dataset\n",
    "total_missing_values = missing_values.sum()\n",
    "# I used the .shape[0] method to get the total number of rows in the Dataset\n",
    "total_entries = dataset.shape[0]*dataset.shape[1]\n",
    "# Then I calculated the percentage using the two variables above \n",
    "percentage_missing_values = (total_missing_values / total_entries) * 100\n",
    "\n",
    "print(\"Percentage of missing values in the dataset:\")\n",
    "print(percentage_missing_values)"
   ]
  },
  {
   "cell_type": "markdown",
   "id": "ad1e024f",
   "metadata": {},
   "source": [
    "Clearly, 0.5% of the dataset is composed of missing values, which seems to be a relatively low number.\n",
    "\n",
    "We can also notice that all of the missing values are related to demographics, this could potentially tell us that it was a bit complicated for the practionners to collect the location of the users, or maybe some of the users simply decided not to give out that information and wanted to stay completely anonymous. \n",
    "\n",
    "Let's investigate this further using a heatmap: "
   ]
  },
  {
   "cell_type": "code",
   "execution_count": 1507,
   "id": "31f9d327",
   "metadata": {},
   "outputs": [
    {
     "data": {
      "image/png": "[encoded data removed]",
      "text/plain": [
       "<Figure size 1440x864 with 2 Axes>"
      ]
     },
     "metadata": {
      "needs_background": "light"
     },
     "output_type": "display_data"
    }
   ],
   "source": [
    "import missingno as msno\n",
    "import matplotlib.pyplot as plt\n",
    "\n",
    "# Plot missing values heatmap\n",
    "msno.heatmap(dataset)\n",
    "plt.show()"
   ]
  },
  {
   "cell_type": "markdown",
   "id": "ddbe1f30",
   "metadata": {},
   "source": [
    "This heatmap helps us figure out the correlation of the missigness in the variables. \n",
    "\n",
    "For example, the value of 0.7 on top suggests that there is a relatively high correlation between missingness in the \"state\" variable and missingness in the \"city\" variable. In other words, when \"state\" is missing, there's a 70% chance that \"city\" is also missing, and vice versa.. \n",
    "\n",
    " This correlation may suggest that there's some underlying relationship or dependency between the missing values in \"city\" and \"state\". Obviously, since these variables are purely geographical information this points to potential data collection issues or challenges. For example, if certain regions or locations were difficult to capture or if there were inconsistencies in data collection procedures.\n",
    "\n",
    "Before dealing with them, let's see if there aren't any other forms of missing values in the dataset: "
   ]
  },
  {
   "cell_type": "code",
   "execution_count": 1508,
   "id": "e48db8c4",
   "metadata": {},
   "outputs": [
    {
     "data": {
      "text/html": [
       "<div>\n",
       "<style scoped>\n",
       "    .dataframe tbody tr th:only-of-type {\n",
       "        vertical-align: middle;\n",
       "    }\n",
       "\n",
       "    .dataframe tbody tr th {\n",
       "        vertical-align: top;\n",
       "    }\n",
       "\n",
       "    .dataframe thead th {\n",
       "        text-align: right;\n",
       "    }\n",
       "</style>\n",
       "<table border=\"1\" class=\"dataframe\">\n",
       "  <thead>\n",
       "    <tr style=\"text-align: right;\">\n",
       "      <th></th>\n",
       "      <th>User_id</th>\n",
       "      <th>Age</th>\n",
       "      <th>Rating</th>\n",
       "      <th>Book_title</th>\n",
       "      <th>Book_author</th>\n",
       "      <th>Year_of_publication</th>\n",
       "      <th>Publisher</th>\n",
       "      <th>Summary</th>\n",
       "      <th>Language</th>\n",
       "      <th>Category</th>\n",
       "      <th>City</th>\n",
       "      <th>State</th>\n",
       "      <th>Country</th>\n",
       "    </tr>\n",
       "  </thead>\n",
       "  <tbody>\n",
       "    <tr>\n",
       "      <th>0</th>\n",
       "      <td>2</td>\n",
       "      <td>18.0000</td>\n",
       "      <td>0</td>\n",
       "      <td>Classical mythology</td>\n",
       "      <td>Mark p. o. morford</td>\n",
       "      <td>2002.0</td>\n",
       "      <td>Oxford university press</td>\n",
       "      <td>Provides an introduction to classical myths pl...</td>\n",
       "      <td>En</td>\n",
       "      <td>['social science']</td>\n",
       "      <td>Stockton</td>\n",
       "      <td>California</td>\n",
       "      <td>Usa</td>\n",
       "    </tr>\n",
       "    <tr>\n",
       "      <th>1</th>\n",
       "      <td>8</td>\n",
       "      <td>34.7439</td>\n",
       "      <td>5</td>\n",
       "      <td>Clara callan</td>\n",
       "      <td>Richard bruce wright</td>\n",
       "      <td>2001.0</td>\n",
       "      <td>Harperflamingo canada</td>\n",
       "      <td>In a small town in canada, clara callan reluct...</td>\n",
       "      <td>En</td>\n",
       "      <td>['actresses']</td>\n",
       "      <td>Timmins</td>\n",
       "      <td>Ontario</td>\n",
       "      <td>Canada</td>\n",
       "    </tr>\n",
       "    <tr>\n",
       "      <th>2</th>\n",
       "      <td>11400</td>\n",
       "      <td>49.0000</td>\n",
       "      <td>0</td>\n",
       "      <td>Clara callan</td>\n",
       "      <td>Richard bruce wright</td>\n",
       "      <td>2001.0</td>\n",
       "      <td>Harperflamingo canada</td>\n",
       "      <td>In a small town in canada, clara callan reluct...</td>\n",
       "      <td>En</td>\n",
       "      <td>['actresses']</td>\n",
       "      <td>Ottawa</td>\n",
       "      <td>Ontario</td>\n",
       "      <td>Canada</td>\n",
       "    </tr>\n",
       "    <tr>\n",
       "      <th>3</th>\n",
       "      <td>11676</td>\n",
       "      <td>34.7439</td>\n",
       "      <td>8</td>\n",
       "      <td>Clara callan</td>\n",
       "      <td>Richard bruce wright</td>\n",
       "      <td>2001.0</td>\n",
       "      <td>Harperflamingo canada</td>\n",
       "      <td>In a small town in canada, clara callan reluct...</td>\n",
       "      <td>En</td>\n",
       "      <td>['actresses']</td>\n",
       "      <td>NaN</td>\n",
       "      <td>NaN</td>\n",
       "      <td>NaN</td>\n",
       "    </tr>\n",
       "    <tr>\n",
       "      <th>4</th>\n",
       "      <td>41385</td>\n",
       "      <td>34.7439</td>\n",
       "      <td>0</td>\n",
       "      <td>Clara callan</td>\n",
       "      <td>Richard bruce wright</td>\n",
       "      <td>2001.0</td>\n",
       "      <td>Harperflamingo canada</td>\n",
       "      <td>In a small town in canada, clara callan reluct...</td>\n",
       "      <td>En</td>\n",
       "      <td>['actresses']</td>\n",
       "      <td>Sudbury</td>\n",
       "      <td>Ontario</td>\n",
       "      <td>Canada</td>\n",
       "    </tr>\n",
       "  </tbody>\n",
       "</table>\n",
       "</div>"
      ],
      "text/plain": [
       "   User_id      Age  Rating           Book_title           Book_author  \\\n",
       "0        2  18.0000       0  Classical mythology    Mark p. o. morford   \n",
       "1        8  34.7439       5         Clara callan  Richard bruce wright   \n",
       "2    11400  49.0000       0         Clara callan  Richard bruce wright   \n",
       "3    11676  34.7439       8         Clara callan  Richard bruce wright   \n",
       "4    41385  34.7439       0         Clara callan  Richard bruce wright   \n",
       "\n",
       "   Year_of_publication                Publisher  \\\n",
       "0               2002.0  Oxford university press   \n",
       "1               2001.0    Harperflamingo canada   \n",
       "2               2001.0    Harperflamingo canada   \n",
       "3               2001.0    Harperflamingo canada   \n",
       "4               2001.0    Harperflamingo canada   \n",
       "\n",
       "                                             Summary Language  \\\n",
       "0  Provides an introduction to classical myths pl...       En   \n",
       "1  In a small town in canada, clara callan reluct...       En   \n",
       "2  In a small town in canada, clara callan reluct...       En   \n",
       "3  In a small town in canada, clara callan reluct...       En   \n",
       "4  In a small town in canada, clara callan reluct...       En   \n",
       "\n",
       "             Category      City       State Country  \n",
       "0  ['social science']  Stockton  California     Usa  \n",
       "1       ['actresses']   Timmins     Ontario  Canada  \n",
       "2       ['actresses']    Ottawa     Ontario  Canada  \n",
       "3       ['actresses']       NaN         NaN     NaN  \n",
       "4       ['actresses']   Sudbury     Ontario  Canada  "
      ]
     },
     "execution_count": 1508,
     "metadata": {},
     "output_type": "execute_result"
    }
   ],
   "source": [
    "dataset.head()"
   ]
  },
  {
   "cell_type": "code",
   "execution_count": 1509,
   "id": "3faff173",
   "metadata": {
    "scrolled": false
   },
   "outputs": [
    {
     "data": {
      "text/html": [
       "<div>\n",
       "<style scoped>\n",
       "    .dataframe tbody tr th:only-of-type {\n",
       "        vertical-align: middle;\n",
       "    }\n",
       "\n",
       "    .dataframe tbody tr th {\n",
       "        vertical-align: top;\n",
       "    }\n",
       "\n",
       "    .dataframe thead th {\n",
       "        text-align: right;\n",
       "    }\n",
       "</style>\n",
       "<table border=\"1\" class=\"dataframe\">\n",
       "  <thead>\n",
       "    <tr style=\"text-align: right;\">\n",
       "      <th></th>\n",
       "      <th>User_id</th>\n",
       "      <th>Age</th>\n",
       "      <th>Rating</th>\n",
       "      <th>Book_title</th>\n",
       "      <th>Book_author</th>\n",
       "      <th>Year_of_publication</th>\n",
       "      <th>Publisher</th>\n",
       "      <th>Summary</th>\n",
       "      <th>Language</th>\n",
       "      <th>Category</th>\n",
       "      <th>City</th>\n",
       "      <th>State</th>\n",
       "      <th>Country</th>\n",
       "    </tr>\n",
       "  </thead>\n",
       "  <tbody>\n",
       "    <tr>\n",
       "      <th>1031170</th>\n",
       "      <td>278851</td>\n",
       "      <td>33.0</td>\n",
       "      <td>0</td>\n",
       "      <td>As hogan said . . . : the 389 best things anyo...</td>\n",
       "      <td>Randy voorhees</td>\n",
       "      <td>2000.0</td>\n",
       "      <td>Simon &amp; schuster</td>\n",
       "      <td>Golf lovers will revel in this collection of t...</td>\n",
       "      <td>En</td>\n",
       "      <td>['humor']</td>\n",
       "      <td>Dallas</td>\n",
       "      <td>Texas</td>\n",
       "      <td>Usa</td>\n",
       "    </tr>\n",
       "    <tr>\n",
       "      <th>1031171</th>\n",
       "      <td>278851</td>\n",
       "      <td>33.0</td>\n",
       "      <td>5</td>\n",
       "      <td>All elevations unknown: an adventure in the he...</td>\n",
       "      <td>Sam lightner</td>\n",
       "      <td>2001.0</td>\n",
       "      <td>Broadway books</td>\n",
       "      <td>A daring twist on the travel-adventure genre t...</td>\n",
       "      <td>En</td>\n",
       "      <td>['nature']</td>\n",
       "      <td>Dallas</td>\n",
       "      <td>Texas</td>\n",
       "      <td>Usa</td>\n",
       "    </tr>\n",
       "    <tr>\n",
       "      <th>1031172</th>\n",
       "      <td>278851</td>\n",
       "      <td>33.0</td>\n",
       "      <td>7</td>\n",
       "      <td>Why stop?: a guide to texas historical roadsid...</td>\n",
       "      <td>Claude dooley</td>\n",
       "      <td>1985.0</td>\n",
       "      <td>Lone star books</td>\n",
       "      <td>9</td>\n",
       "      <td>9</td>\n",
       "      <td>9</td>\n",
       "      <td>Dallas</td>\n",
       "      <td>Texas</td>\n",
       "      <td>Usa</td>\n",
       "    </tr>\n",
       "    <tr>\n",
       "      <th>1031173</th>\n",
       "      <td>278851</td>\n",
       "      <td>33.0</td>\n",
       "      <td>7</td>\n",
       "      <td>The are you being served? stories: 'camping in...</td>\n",
       "      <td>Jeremy lloyd</td>\n",
       "      <td>1997.0</td>\n",
       "      <td>Kqed books</td>\n",
       "      <td>These hilarious stories by the creator of publ...</td>\n",
       "      <td>En</td>\n",
       "      <td>['fiction']</td>\n",
       "      <td>Dallas</td>\n",
       "      <td>Texas</td>\n",
       "      <td>Usa</td>\n",
       "    </tr>\n",
       "    <tr>\n",
       "      <th>1031174</th>\n",
       "      <td>278851</td>\n",
       "      <td>33.0</td>\n",
       "      <td>10</td>\n",
       "      <td>Dallas street map guide and directory, 2000 ed...</td>\n",
       "      <td>Mapsco</td>\n",
       "      <td>1999.0</td>\n",
       "      <td>American map corporation</td>\n",
       "      <td>9</td>\n",
       "      <td>9</td>\n",
       "      <td>9</td>\n",
       "      <td>Dallas</td>\n",
       "      <td>Texas</td>\n",
       "      <td>Usa</td>\n",
       "    </tr>\n",
       "  </tbody>\n",
       "</table>\n",
       "</div>"
      ],
      "text/plain": [
       "         User_id   Age  Rating  \\\n",
       "1031170   278851  33.0       0   \n",
       "1031171   278851  33.0       5   \n",
       "1031172   278851  33.0       7   \n",
       "1031173   278851  33.0       7   \n",
       "1031174   278851  33.0      10   \n",
       "\n",
       "                                                Book_title     Book_author  \\\n",
       "1031170  As hogan said . . . : the 389 best things anyo...  Randy voorhees   \n",
       "1031171  All elevations unknown: an adventure in the he...    Sam lightner   \n",
       "1031172  Why stop?: a guide to texas historical roadsid...   Claude dooley   \n",
       "1031173  The are you being served? stories: 'camping in...    Jeremy lloyd   \n",
       "1031174  Dallas street map guide and directory, 2000 ed...          Mapsco   \n",
       "\n",
       "         Year_of_publication                 Publisher  \\\n",
       "1031170               2000.0          Simon & schuster   \n",
       "1031171               2001.0            Broadway books   \n",
       "1031172               1985.0           Lone star books   \n",
       "1031173               1997.0                Kqed books   \n",
       "1031174               1999.0  American map corporation   \n",
       "\n",
       "                                                   Summary Language  \\\n",
       "1031170  Golf lovers will revel in this collection of t...       En   \n",
       "1031171  A daring twist on the travel-adventure genre t...       En   \n",
       "1031172                                                  9        9   \n",
       "1031173  These hilarious stories by the creator of publ...       En   \n",
       "1031174                                                  9        9   \n",
       "\n",
       "            Category    City  State Country  \n",
       "1031170    ['humor']  Dallas  Texas     Usa  \n",
       "1031171   ['nature']  Dallas  Texas     Usa  \n",
       "1031172            9  Dallas  Texas     Usa  \n",
       "1031173  ['fiction']  Dallas  Texas     Usa  \n",
       "1031174            9  Dallas  Texas     Usa  "
      ]
     },
     "execution_count": 1509,
     "metadata": {},
     "output_type": "execute_result"
    }
   ],
   "source": [
    "dataset.tail()"
   ]
  },
  {
   "cell_type": "markdown",
   "id": "d13b2ee9",
   "metadata": {},
   "source": [
    "Here we can see that there are columns that contain a strange number \"9\" throughout the whole dataset. Since it doesn't seem to be a reference number to some value, it is probably an erroneous or placeholder value that signify missing data due to data entry errors, system glitches, or simple missing data.\n",
    "Since pandas is not build to automatically detect this type of missing data let's replace this 9 values with NaN values."
   ]
  },
  {
   "cell_type": "code",
   "execution_count": 1510,
   "id": "7594f28a",
   "metadata": {},
   "outputs": [],
   "source": [
    "# I used the replace() function to replace the 9 values with NaN values\n",
    "dataset.replace(\"9\", pd.NA, inplace=True)\n"
   ]
  },
  {
   "cell_type": "markdown",
   "id": "792f1ea6",
   "metadata": {},
   "source": [
    "Now let's recalculate the percentage of missing values in the dataset after adding the new missing values found: "
   ]
  },
  {
   "cell_type": "code",
   "execution_count": 1511,
   "id": "f2b9411a",
   "metadata": {},
   "outputs": [
    {
     "name": "stdout",
     "output_type": "stream",
     "text": [
      "Number of missing values in each column:\n",
      "User_id                     0\n",
      "Age                         0\n",
      "Rating                      0\n",
      "Book_title                  0\n",
      "Book_author                 0\n",
      "Year_of_publication         0\n",
      "Publisher                   0\n",
      "Summary                398937\n",
      "Language               398937\n",
      "Category               406102\n",
      "City                    14103\n",
      "State                   22798\n",
      "Country                 35374\n",
      "dtype: int64\n",
      "Percentage of missing values in the dataset:\n",
      "9.52051337999407\n"
     ]
    }
   ],
   "source": [
    "# I recalculated the number of missing values after adding the new \"9\" missing values\n",
    "missing_values = dataset.isna().sum() \n",
    "print(\"Number of missing values in each column:\")\n",
    "print(missing_values)\n",
    "\n",
    "# I used the .sum() method to calculate the total number of missing values in the dataset\n",
    "total_missing_values = missing_values.sum()\n",
    "# I used the .shape[] method to get the total number of rows in the Dataset\n",
    "total_entries = dataset.shape[0]*dataset.shape[1]\n",
    "# Then I calculated the percentage using the two variables above \n",
    "percentage_missing_values = (total_missing_values / total_entries) * 100\n",
    "\n",
    "print(\"Percentage of missing values in the dataset:\")\n",
    "print(percentage_missing_values)"
   ]
  },
  {
   "cell_type": "markdown",
   "id": "7f5541af",
   "metadata": {},
   "source": [
    "As expected, the percentage increased a lot more and went from 0.5% to 9.5% of missing values.\n",
    "Like before, let's investigate the correlation of missingness using a heatmap."
   ]
  },
  {
   "cell_type": "code",
   "execution_count": 1512,
   "id": "42c6f6f4",
   "metadata": {},
   "outputs": [
    {
     "data": {
      "image/png": "[encoded data removed]",
      "text/plain": [
       "<Figure size 1440x864 with 2 Axes>"
      ]
     },
     "metadata": {
      "needs_background": "light"
     },
     "output_type": "display_data"
    }
   ],
   "source": [
    "# Plot missing values heatmap\n",
    "msno.heatmap(dataset)\n",
    "plt.show()"
   ]
  },
  {
   "cell_type": "markdown",
   "id": "dfbc98ed",
   "metadata": {},
   "source": [
    "Now, we can see a new cluster of extremely high correlation of missingness between the \"category\" language\" and \"summary\" variables. \n",
    "After looking at the dataset documentation, I noticed that these exact three variables were only recently added to this dataset and weren't part of the older versions, which explains the high correlation between them since there were part of single data collection process, and the big number of missing values is probably due to the fact that this data is still not in the final version of the dataset and is still being collected. \n"
   ]
  },
  {
   "cell_type": "markdown",
   "id": "75ae0fba",
   "metadata": {},
   "source": [
    "Let's print out some of the rows with missing values to continue our search and see if there isn't any other strange data entries that could potentially be another type of missing values"
   ]
  },
  {
   "cell_type": "code",
   "execution_count": 1513,
   "id": "fa294beb",
   "metadata": {},
   "outputs": [
    {
     "data": {
      "text/html": [
       "<div>\n",
       "<style scoped>\n",
       "    .dataframe tbody tr th:only-of-type {\n",
       "        vertical-align: middle;\n",
       "    }\n",
       "\n",
       "    .dataframe tbody tr th {\n",
       "        vertical-align: top;\n",
       "    }\n",
       "\n",
       "    .dataframe thead th {\n",
       "        text-align: right;\n",
       "    }\n",
       "</style>\n",
       "<table border=\"1\" class=\"dataframe\">\n",
       "  <thead>\n",
       "    <tr style=\"text-align: right;\">\n",
       "      <th></th>\n",
       "      <th>User_id</th>\n",
       "      <th>Age</th>\n",
       "      <th>Rating</th>\n",
       "      <th>Book_title</th>\n",
       "      <th>Book_author</th>\n",
       "      <th>Year_of_publication</th>\n",
       "      <th>Publisher</th>\n",
       "      <th>Summary</th>\n",
       "      <th>Language</th>\n",
       "      <th>Category</th>\n",
       "      <th>City</th>\n",
       "      <th>State</th>\n",
       "      <th>Country</th>\n",
       "    </tr>\n",
       "  </thead>\n",
       "  <tbody>\n",
       "    <tr>\n",
       "      <th>3</th>\n",
       "      <td>11676</td>\n",
       "      <td>34.7439</td>\n",
       "      <td>8</td>\n",
       "      <td>Clara callan</td>\n",
       "      <td>Richard bruce wright</td>\n",
       "      <td>2001.0</td>\n",
       "      <td>Harperflamingo canada</td>\n",
       "      <td>In a small town in canada, clara callan reluct...</td>\n",
       "      <td>En</td>\n",
       "      <td>['actresses']</td>\n",
       "      <td>NaN</td>\n",
       "      <td>NaN</td>\n",
       "      <td>NaN</td>\n",
       "    </tr>\n",
       "    <tr>\n",
       "      <th>8</th>\n",
       "      <td>116866</td>\n",
       "      <td>34.7439</td>\n",
       "      <td>9</td>\n",
       "      <td>Clara callan</td>\n",
       "      <td>Richard bruce wright</td>\n",
       "      <td>2001.0</td>\n",
       "      <td>Harperflamingo canada</td>\n",
       "      <td>In a small town in canada, clara callan reluct...</td>\n",
       "      <td>En</td>\n",
       "      <td>['actresses']</td>\n",
       "      <td>Ottawa</td>\n",
       "      <td>,</td>\n",
       "      <td>NaN</td>\n",
       "    </tr>\n",
       "    <tr>\n",
       "      <th>31</th>\n",
       "      <td>11676</td>\n",
       "      <td>34.7439</td>\n",
       "      <td>9</td>\n",
       "      <td>The kitchen god's wife</td>\n",
       "      <td>Amy tan</td>\n",
       "      <td>1991.0</td>\n",
       "      <td>Putnam pub group</td>\n",
       "      <td>A chinese immigrant who is convinced she is dy...</td>\n",
       "      <td>En</td>\n",
       "      <td>['fiction']</td>\n",
       "      <td>NaN</td>\n",
       "      <td>NaN</td>\n",
       "      <td>NaN</td>\n",
       "    </tr>\n",
       "    <tr>\n",
       "      <th>40</th>\n",
       "      <td>115097</td>\n",
       "      <td>27.0000</td>\n",
       "      <td>7</td>\n",
       "      <td>The kitchen god's wife</td>\n",
       "      <td>Amy tan</td>\n",
       "      <td>1991.0</td>\n",
       "      <td>Putnam pub group</td>\n",
       "      <td>A chinese immigrant who is convinced she is dy...</td>\n",
       "      <td>En</td>\n",
       "      <td>['fiction']</td>\n",
       "      <td>Seattle</td>\n",
       "      <td>,</td>\n",
       "      <td>NaN</td>\n",
       "    </tr>\n",
       "    <tr>\n",
       "      <th>58</th>\n",
       "      <td>245827</td>\n",
       "      <td>34.7439</td>\n",
       "      <td>9</td>\n",
       "      <td>The kitchen god's wife</td>\n",
       "      <td>Amy tan</td>\n",
       "      <td>1991.0</td>\n",
       "      <td>Putnam pub group</td>\n",
       "      <td>A chinese immigrant who is convinced she is dy...</td>\n",
       "      <td>En</td>\n",
       "      <td>['fiction']</td>\n",
       "      <td>Albuquerque</td>\n",
       "      <td>,</td>\n",
       "      <td>NaN</td>\n",
       "    </tr>\n",
       "  </tbody>\n",
       "</table>\n",
       "</div>"
      ],
      "text/plain": [
       "    User_id      Age  Rating              Book_title           Book_author  \\\n",
       "3     11676  34.7439       8            Clara callan  Richard bruce wright   \n",
       "8    116866  34.7439       9            Clara callan  Richard bruce wright   \n",
       "31    11676  34.7439       9  The kitchen god's wife               Amy tan   \n",
       "40   115097  27.0000       7  The kitchen god's wife               Amy tan   \n",
       "58   245827  34.7439       9  The kitchen god's wife               Amy tan   \n",
       "\n",
       "    Year_of_publication              Publisher  \\\n",
       "3                2001.0  Harperflamingo canada   \n",
       "8                2001.0  Harperflamingo canada   \n",
       "31               1991.0       Putnam pub group   \n",
       "40               1991.0       Putnam pub group   \n",
       "58               1991.0       Putnam pub group   \n",
       "\n",
       "                                              Summary Language       Category  \\\n",
       "3   In a small town in canada, clara callan reluct...       En  ['actresses']   \n",
       "8   In a small town in canada, clara callan reluct...       En  ['actresses']   \n",
       "31  A chinese immigrant who is convinced she is dy...       En    ['fiction']   \n",
       "40  A chinese immigrant who is convinced she is dy...       En    ['fiction']   \n",
       "58  A chinese immigrant who is convinced she is dy...       En    ['fiction']   \n",
       "\n",
       "           City State Country  \n",
       "3           NaN   NaN     NaN  \n",
       "8        Ottawa     ,     NaN  \n",
       "31          NaN   NaN     NaN  \n",
       "40      Seattle     ,     NaN  \n",
       "58  Albuquerque     ,     NaN  "
      ]
     },
     "execution_count": 1513,
     "metadata": {},
     "output_type": "execute_result"
    }
   ],
   "source": [
    "# Create a boolean mask to identify rows with missing values\n",
    "mask = dataset.isnull().any(axis=1)\n",
    "\n",
    "# Use the boolean mask to filter and display the rows with missing values\n",
    "rows_with_missing_values = dataset[mask]\n",
    "rows_with_missing_values.head()"
   ]
  },
  {
   "cell_type": "markdown",
   "id": "1df062a3",
   "metadata": {},
   "source": [
    "Here we can see that in some rows, a missing value is also represented as a comma. \n",
    "Let's replace the commas with NaN values too"
   ]
  },
  {
   "cell_type": "code",
   "execution_count": 1514,
   "id": "0dee6f3b",
   "metadata": {},
   "outputs": [],
   "source": [
    "# Replace single commas with NaN values if they are standalone\n",
    "dataset = dataset.replace('^,|,$', np.nan, regex=True)"
   ]
  },
  {
   "cell_type": "markdown",
   "id": "31de5903",
   "metadata": {},
   "source": [
    "Now i can recalculate the final number of missing values in the dataset: "
   ]
  },
  {
   "cell_type": "code",
   "execution_count": 1515,
   "id": "53ef3cf7",
   "metadata": {},
   "outputs": [
    {
     "name": "stdout",
     "output_type": "stream",
     "text": [
      "Number of missing values in each column:\n",
      "User_id                     0\n",
      "Age                         0\n",
      "Rating                      0\n",
      "Book_title                221\n",
      "Book_author                 0\n",
      "Year_of_publication         0\n",
      "Publisher                   4\n",
      "Summary                399042\n",
      "Language               398937\n",
      "Category               406102\n",
      "City                    14839\n",
      "State                   47184\n",
      "Country                 35439\n",
      "dtype: int64\n",
      "Percentage of missing values in the dataset:\n",
      "9.71086382039906\n"
     ]
    }
   ],
   "source": [
    "# I recalculated the number of missing values after adding the new \",\" missing values\n",
    "missing_values = dataset.isna().sum() \n",
    "print(\"Number of missing values in each column:\")\n",
    "print(missing_values)\n",
    "\n",
    "# I used the .sum() method to calculate the total number of missing values in the dataset\n",
    "total_missing_values = missing_values.sum()\n",
    "# I used the .shape[] method to get the total number of rows in the Dataset\n",
    "total_entries = dataset.shape[0]*dataset.shape[1]\n",
    "# Then I calculated the percentage using the two variables above \n",
    "percentage_missing_values = (total_missing_values / total_entries) * 100\n",
    "\n",
    "print(\"Percentage of missing values in the dataset:\")\n",
    "print(percentage_missing_values)"
   ]
  },
  {
   "cell_type": "markdown",
   "id": "3a99509f",
   "metadata": {},
   "source": [
    "The percentage increased again from 9.5% to 9.7%. Even if this number increased a lot from the beggining of the analysis it is still a relatively low number. "
   ]
  },
  {
   "cell_type": "code",
   "execution_count": 1516,
   "id": "72a19c24",
   "metadata": {},
   "outputs": [
    {
     "data": {
      "image/png": "[encoded data removed]",
      "text/plain": [
       "<Figure size 1440x864 with 2 Axes>"
      ]
     },
     "metadata": {
      "needs_background": "light"
     },
     "output_type": "display_data"
    }
   ],
   "source": [
    "# Plot missing values heatmap\n",
    "msno.heatmap(dataset)\n",
    "plt.show()"
   ]
  },
  {
   "cell_type": "markdown",
   "id": "35326080",
   "metadata": {},
   "source": [
    "Here the only thing that changed is the correlation of missingness between the state and the country which increased to 0.9. \n",
    "This could point out to a potential bias in the dataset, meaning that if the country is correctly collected in the data there's only a 10% chance that the state is missing. This is pretty strange as States are only common in certain countries like in Australia or North American like the US or Canada. Which means that this dataset could contain mostly people from these countries and the dataset could lack a lot of geographical diversity.\n",
    "\n",
    "Let's plot the top 10 most mentionned countries of this dataset and see if it confirms our thoughts: "
   ]
  },
  {
   "cell_type": "code",
   "execution_count": 1517,
   "id": "bf0c5828",
   "metadata": {},
   "outputs": [
    {
     "data": {
      "image/png": "[encoded data removed]",
      "text/plain": [
       "<Figure size 720x432 with 1 Axes>"
      ]
     },
     "metadata": {
      "needs_background": "light"
     },
     "output_type": "display_data"
    }
   ],
   "source": [
    "top_10_countries = dataset['Country'].value_counts().head(10)\n",
    "# Plot the 10 most frequent book titles\n",
    "plt.figure(figsize=(10, 6))\n",
    "top_10_countries.plot(kind='bar', color='skyblue')\n",
    "plt.title('Top 10 Most Frequent Countries')\n",
    "plt.xlabel('Countries')\n",
    "plt.ylabel('Frequency')\n",
    "plt.xticks(rotation=45, ha='right')\n",
    "plt.tight_layout()\n",
    "plt.show()"
   ]
  },
  {
   "cell_type": "markdown",
   "id": "84a70089",
   "metadata": {},
   "source": [
    "Just like we predicted, most of the users in the dataset are from the usa and Canada. Let's see how much: "
   ]
  },
  {
   "cell_type": "code",
   "execution_count": 1518,
   "id": "9fd496e3",
   "metadata": {},
   "outputs": [
    {
     "name": "stdout",
     "output_type": "stream",
     "text": [
      "Percentage of rows containing 'USA' or 'Canada': 81.34%\n"
     ]
    }
   ],
   "source": [
    "# Count the number of rows containing \"USA\" or \"Canada\"\n",
    "us_canada_rows = dataset[dataset['Country'].isin(['Usa', 'Canada'])].shape[0]\n",
    "# Calculate the total number of rows in the dataset\n",
    "total_rows = dataset.shape[0]\n",
    "# Calculate the percentage\n",
    "percentage_us_canada = (us_canada_rows / total_rows) * 100\n",
    "\n",
    "print(f\"Percentage of rows containing 'USA' or 'Canada': {percentage_us_canada:.2f}%\")"
   ]
  },
  {
   "cell_type": "markdown",
   "id": "88adb6ca",
   "metadata": {},
   "source": [
    "Given that nearly 90% of our dataset comprises users from the US or Canada, we can enhance the efficiency and accuracy of our recommendation system by excluding rows where users are from other countries. This approach minimizes potential biases and ensures that recommendations are tailored specifically to users in the US and Canada.\n",
    "\n",
    "This strategy aligns with common practices in recommendation systems, such as Netflix, which personalize recommendations based on the user's location rather than providing global suggestions. While worldwide recommendations are available, they typically rely on datasets that accurately represent each country equally, unlike the dataset we are currently using."
   ]
  },
  {
   "cell_type": "code",
   "execution_count": 1519,
   "id": "ad24b325",
   "metadata": {},
   "outputs": [],
   "source": [
    "# Filter rows where users are from \"USA\" or \"Canada\"\n",
    "dataset = dataset[dataset['Country'].isin(['Usa', 'Canada'])]"
   ]
  },
  {
   "cell_type": "markdown",
   "id": "0262f0b7",
   "metadata": {},
   "source": [
    "Now let's see how much missing values we have left: "
   ]
  },
  {
   "cell_type": "code",
   "execution_count": 1520,
   "id": "ac582c90",
   "metadata": {},
   "outputs": [
    {
     "name": "stdout",
     "output_type": "stream",
     "text": [
      "Number of missing values in each column:\n",
      "User_id                     0\n",
      "Age                         0\n",
      "Rating                      0\n",
      "Book_title                182\n",
      "Book_author                 0\n",
      "Year_of_publication         0\n",
      "Publisher                   2\n",
      "Summary                305406\n",
      "Language               305323\n",
      "Category               308650\n",
      "City                     1906\n",
      "State                    3303\n",
      "Country                     0\n",
      "dtype: int64\n",
      "Percentage of missing values in the dataset:\n",
      "8.480753709456245\n"
     ]
    }
   ],
   "source": [
    "# I recalculated the number of missing values after filtering users from the US and Canada\n",
    "missing_values = dataset.isna().sum() \n",
    "print(\"Number of missing values in each column:\")\n",
    "print(missing_values)\n",
    "\n",
    "# I used the .sum() method to calculate the total number of missing values in the dataset\n",
    "total_missing_values = missing_values.sum()\n",
    "# I used the .shape[] method to get the total number of rows in the Dataset\n",
    "total_entries = dataset.shape[0]*dataset.shape[1]\n",
    "# Then I calculated the percentage using the two variables above \n",
    "percentage_missing_values = (total_missing_values / total_entries) * 100\n",
    "\n",
    "print(\"Percentage of missing values in the dataset:\")\n",
    "print(percentage_missing_values)"
   ]
  },
  {
   "cell_type": "markdown",
   "id": "0290677b",
   "metadata": {},
   "source": [
    "The overall decrease in the percentage of missing values by approximately 1% is a positive development. As anticipated, many missing values in the \"city,\" \"state,\" and \"country\" columns were successfully eliminated without losing any crucial information for our project.\n",
    "\n",
    "For the remaining missing values in \"Book_title\", \"city\", \"state\" and \"country\" columns, combined, they are comprising less than 1% of our dataset. Hence, removing them entirely seems appropriate. This action is expected to avoid us complications in subsequent analyses.\n",
    "\n",
    "Regarding the missing values in the recently added columns \"Language,\" \"Category,\" and \"Summary,\" it's prudent to remove them as well. While imputing these values individually by sourcing information for each book online is beyond my current capabilities, in a different context where such resources are available, imputation would be a viable option.\n",
    "\n",
    "I will also drop the \"City\" column as I won't be using it for my recommendation system and hopefully it will also help us eliminate some of the missing values without losing information.\n"
   ]
  },
  {
   "cell_type": "code",
   "execution_count": 1521,
   "id": "2929719f",
   "metadata": {},
   "outputs": [],
   "source": [
    "# drop \"city\" column from both datasets\n",
    "dataset.drop(columns=['City'], inplace = True)"
   ]
  },
  {
   "cell_type": "code",
   "execution_count": 1522,
   "id": "18d0c487",
   "metadata": {},
   "outputs": [],
   "source": [
    "dataset = dataset.dropna()"
   ]
  },
  {
   "cell_type": "markdown",
   "id": "8aae4cab",
   "metadata": {},
   "source": [
    "Let's now assess the impact of dropping these values on our dataset."
   ]
  },
  {
   "cell_type": "code",
   "execution_count": 1523,
   "id": "0f209922",
   "metadata": {},
   "outputs": [
    {
     "data": {
      "text/plain": [
       "(527914, 12)"
      ]
     },
     "execution_count": 1523,
     "metadata": {},
     "output_type": "execute_result"
    }
   ],
   "source": [
    "dataset.shape"
   ]
  },
  {
   "cell_type": "markdown",
   "id": "1526a06f",
   "metadata": {},
   "source": [
    "We've reduced the number of rows in our dataset by half. However, with approximately 500,000 observations remaining, it still represents a substantial amount of data, particularly given the scope of the project."
   ]
  },
  {
   "cell_type": "markdown",
   "id": "e46391b5",
   "metadata": {},
   "source": [
    "### Duplicates"
   ]
  },
  {
   "cell_type": "markdown",
   "id": "a3fbf373",
   "metadata": {},
   "source": [
    "Now let's check for duplicates: "
   ]
  },
  {
   "cell_type": "code",
   "execution_count": 1524,
   "id": "911bf423",
   "metadata": {},
   "outputs": [
    {
     "data": {
      "text/plain": [
       "14"
      ]
     },
     "execution_count": 1524,
     "metadata": {},
     "output_type": "execute_result"
    }
   ],
   "source": [
    "dataset.duplicated().sum()"
   ]
  },
  {
   "cell_type": "markdown",
   "id": "1fcfc00f",
   "metadata": {},
   "source": [
    "There are 14 duplicates, let's drop them."
   ]
  },
  {
   "cell_type": "code",
   "execution_count": 1525,
   "id": "e1fa5d97",
   "metadata": {},
   "outputs": [],
   "source": [
    "dataset = dataset.drop_duplicates()"
   ]
  },
  {
   "cell_type": "markdown",
   "id": "a6755d4e",
   "metadata": {},
   "source": [
    "Now let's see if all columns contain the right information in each entry. "
   ]
  },
  {
   "cell_type": "markdown",
   "id": "2c000b3c",
   "metadata": {},
   "source": [
    "\n",
    "\n",
    "### Data Validation"
   ]
  },
  {
   "cell_type": "markdown",
   "id": "2efa7551",
   "metadata": {},
   "source": [
    "In this part of the project we will be verifying that the data conforms to certain predefined criteria or constraints, ensuring its accuracy, consistency, and reliability for further analysis or processing.\n",
    "Let's start with the age column."
   ]
  },
  {
   "cell_type": "code",
   "execution_count": 1526,
   "id": "44007403",
   "metadata": {},
   "outputs": [
    {
     "data": {
      "text/html": [
       "<div>\n",
       "<style scoped>\n",
       "    .dataframe tbody tr th:only-of-type {\n",
       "        vertical-align: middle;\n",
       "    }\n",
       "\n",
       "    .dataframe tbody tr th {\n",
       "        vertical-align: top;\n",
       "    }\n",
       "\n",
       "    .dataframe thead th {\n",
       "        text-align: right;\n",
       "    }\n",
       "</style>\n",
       "<table border=\"1\" class=\"dataframe\">\n",
       "  <thead>\n",
       "    <tr style=\"text-align: right;\">\n",
       "      <th></th>\n",
       "      <th>User_id</th>\n",
       "      <th>Age</th>\n",
       "      <th>Rating</th>\n",
       "      <th>Book_title</th>\n",
       "      <th>Book_author</th>\n",
       "      <th>Year_of_publication</th>\n",
       "      <th>Publisher</th>\n",
       "      <th>Summary</th>\n",
       "      <th>Language</th>\n",
       "      <th>Category</th>\n",
       "      <th>State</th>\n",
       "      <th>Country</th>\n",
       "    </tr>\n",
       "  </thead>\n",
       "  <tbody>\n",
       "    <tr>\n",
       "      <th>0</th>\n",
       "      <td>2</td>\n",
       "      <td>18.0000</td>\n",
       "      <td>0</td>\n",
       "      <td>Classical mythology</td>\n",
       "      <td>Mark p. o. morford</td>\n",
       "      <td>2002.0</td>\n",
       "      <td>Oxford university press</td>\n",
       "      <td>Provides an introduction to classical myths pl...</td>\n",
       "      <td>En</td>\n",
       "      <td>['social science']</td>\n",
       "      <td>California</td>\n",
       "      <td>Usa</td>\n",
       "    </tr>\n",
       "    <tr>\n",
       "      <th>1</th>\n",
       "      <td>8</td>\n",
       "      <td>34.7439</td>\n",
       "      <td>5</td>\n",
       "      <td>Clara callan</td>\n",
       "      <td>Richard bruce wright</td>\n",
       "      <td>2001.0</td>\n",
       "      <td>Harperflamingo canada</td>\n",
       "      <td>In a small town in canada, clara callan reluct...</td>\n",
       "      <td>En</td>\n",
       "      <td>['actresses']</td>\n",
       "      <td>Ontario</td>\n",
       "      <td>Canada</td>\n",
       "    </tr>\n",
       "    <tr>\n",
       "      <th>2</th>\n",
       "      <td>11400</td>\n",
       "      <td>49.0000</td>\n",
       "      <td>0</td>\n",
       "      <td>Clara callan</td>\n",
       "      <td>Richard bruce wright</td>\n",
       "      <td>2001.0</td>\n",
       "      <td>Harperflamingo canada</td>\n",
       "      <td>In a small town in canada, clara callan reluct...</td>\n",
       "      <td>En</td>\n",
       "      <td>['actresses']</td>\n",
       "      <td>Ontario</td>\n",
       "      <td>Canada</td>\n",
       "    </tr>\n",
       "    <tr>\n",
       "      <th>4</th>\n",
       "      <td>41385</td>\n",
       "      <td>34.7439</td>\n",
       "      <td>0</td>\n",
       "      <td>Clara callan</td>\n",
       "      <td>Richard bruce wright</td>\n",
       "      <td>2001.0</td>\n",
       "      <td>Harperflamingo canada</td>\n",
       "      <td>In a small town in canada, clara callan reluct...</td>\n",
       "      <td>En</td>\n",
       "      <td>['actresses']</td>\n",
       "      <td>Ontario</td>\n",
       "      <td>Canada</td>\n",
       "    </tr>\n",
       "    <tr>\n",
       "      <th>5</th>\n",
       "      <td>67544</td>\n",
       "      <td>30.0000</td>\n",
       "      <td>8</td>\n",
       "      <td>Clara callan</td>\n",
       "      <td>Richard bruce wright</td>\n",
       "      <td>2001.0</td>\n",
       "      <td>Harperflamingo canada</td>\n",
       "      <td>In a small town in canada, clara callan reluct...</td>\n",
       "      <td>En</td>\n",
       "      <td>['actresses']</td>\n",
       "      <td>Ontario</td>\n",
       "      <td>Canada</td>\n",
       "    </tr>\n",
       "  </tbody>\n",
       "</table>\n",
       "</div>"
      ],
      "text/plain": [
       "   User_id      Age  Rating           Book_title           Book_author  \\\n",
       "0        2  18.0000       0  Classical mythology    Mark p. o. morford   \n",
       "1        8  34.7439       5         Clara callan  Richard bruce wright   \n",
       "2    11400  49.0000       0         Clara callan  Richard bruce wright   \n",
       "4    41385  34.7439       0         Clara callan  Richard bruce wright   \n",
       "5    67544  30.0000       8         Clara callan  Richard bruce wright   \n",
       "\n",
       "   Year_of_publication                Publisher  \\\n",
       "0               2002.0  Oxford university press   \n",
       "1               2001.0    Harperflamingo canada   \n",
       "2               2001.0    Harperflamingo canada   \n",
       "4               2001.0    Harperflamingo canada   \n",
       "5               2001.0    Harperflamingo canada   \n",
       "\n",
       "                                             Summary Language  \\\n",
       "0  Provides an introduction to classical myths pl...       En   \n",
       "1  In a small town in canada, clara callan reluct...       En   \n",
       "2  In a small town in canada, clara callan reluct...       En   \n",
       "4  In a small town in canada, clara callan reluct...       En   \n",
       "5  In a small town in canada, clara callan reluct...       En   \n",
       "\n",
       "             Category       State Country  \n",
       "0  ['social science']  California     Usa  \n",
       "1       ['actresses']     Ontario  Canada  \n",
       "2       ['actresses']     Ontario  Canada  \n",
       "4       ['actresses']     Ontario  Canada  \n",
       "5       ['actresses']     Ontario  Canada  "
      ]
     },
     "execution_count": 1526,
     "metadata": {},
     "output_type": "execute_result"
    }
   ],
   "source": [
    "dataset.head()"
   ]
  },
  {
   "cell_type": "markdown",
   "id": "b7210e79",
   "metadata": {},
   "source": [
    "Let's examine whether the age column contains reasonable values, ensuring that the entries are numbers and fall within the range of 5 to 110 years old."
   ]
  },
  {
   "cell_type": "code",
   "execution_count": 1527,
   "id": "94312b71",
   "metadata": {},
   "outputs": [
    {
     "name": "stdout",
     "output_type": "stream",
     "text": [
      "float64\n",
      "Invalid entries:\n",
      "Empty DataFrame\n",
      "Columns: [User_id, Age, Rating, Book_title, Book_author, Year_of_publication, Publisher, Summary, Language, Category, State, Country]\n",
      "Index: []\n"
     ]
    }
   ],
   "source": [
    "# Print the data type of this column\n",
    "print(dataset['Age'].dtypes)\n",
    "\n",
    "# Filter out rows where the 'age' column falls outside the range [5, 100]\n",
    "invalid_entries = dataset[(dataset['Age'] < 5) | (dataset['Age'] > 110)]\n",
    "\n",
    "# Print invalid entries\n",
    "print(\"Invalid entries:\")\n",
    "print(invalid_entries)"
   ]
  },
  {
   "cell_type": "markdown",
   "id": "86970e57",
   "metadata": {},
   "source": [
    "Perfect, all the data in this column is reasonable and float. Now let's see if the ratings are integers and between 0 and 10."
   ]
  },
  {
   "cell_type": "code",
   "execution_count": 1528,
   "id": "f1a61dd0",
   "metadata": {},
   "outputs": [
    {
     "name": "stdout",
     "output_type": "stream",
     "text": [
      "int64\n",
      "Invalid entries:\n",
      "Empty DataFrame\n",
      "Columns: [User_id, Age, Rating, Book_title, Book_author, Year_of_publication, Publisher, Summary, Language, Category, State, Country]\n",
      "Index: []\n"
     ]
    }
   ],
   "source": [
    "# Print the data type of this column\n",
    "print(dataset['Rating'].dtypes)\n",
    "\n",
    "# Filter out rows where the 'rating' column falls outside the range [0, 10]\n",
    "invalid_entries = dataset[(dataset['Rating'] < 0) | (dataset['Rating'] > 10)]\n",
    "\n",
    "# Print invalid entries\n",
    "print(\"Invalid entries:\")\n",
    "print(invalid_entries)"
   ]
  },
  {
   "cell_type": "markdown",
   "id": "14d43150",
   "metadata": {},
   "source": [
    "All the data in this column is reasonnable. However, the rating column type is float, let's convert it to integer:"
   ]
  },
  {
   "cell_type": "code",
   "execution_count": 1529,
   "id": "d7675e60",
   "metadata": {},
   "outputs": [],
   "source": [
    "dataset['Rating'] = dataset['Rating'].astype(int)"
   ]
  },
  {
   "cell_type": "markdown",
   "id": "2a36e6e3",
   "metadata": {},
   "source": [
    "and finally let's make sure that the year of publication is a plausible year:"
   ]
  },
  {
   "cell_type": "code",
   "execution_count": 1530,
   "id": "c8daa589",
   "metadata": {},
   "outputs": [
    {
     "name": "stdout",
     "output_type": "stream",
     "text": [
      "Invalid entries:\n",
      "Empty DataFrame\n",
      "Columns: [User_id, Age, Rating, Book_title, Book_author, Year_of_publication, Publisher, Summary, Language, Category, State, Country]\n",
      "Index: []\n"
     ]
    }
   ],
   "source": [
    "# Filter out rows where the 'age' column falls outside the range [5, 100]\n",
    "invalid_entries = dataset[(dataset['Year_of_publication'] < 1300) | (dataset['Year_of_publication'] > 2021)]\n",
    "\n",
    "# Print invalid entries\n",
    "print(\"Invalid entries:\")\n",
    "print(invalid_entries)"
   ]
  },
  {
   "cell_type": "markdown",
   "id": "62e50fcc",
   "metadata": {},
   "source": [
    "Now let's make sure the state column contains states. \n",
    "Before doing so let's lowercase all the entries to make it easier for us to remove the wrong states:"
   ]
  },
  {
   "cell_type": "code",
   "execution_count": 1531,
   "id": "b00233ee",
   "metadata": {},
   "outputs": [],
   "source": [
    "dataset['State'] = dataset['State'].str.lower()"
   ]
  },
  {
   "cell_type": "code",
   "execution_count": 1532,
   "id": "bd73c7b2",
   "metadata": {},
   "outputs": [
    {
     "name": "stdout",
     "output_type": "stream",
     "text": [
      "Invalid states: {'onataio', 'united states virgin islands', 'sc', 'hamburg', 'niagra falls', 'new brunswick', 'pa', 'south korea', 'oh', 'toscana', 'prince edward island', 'ron see comments pls ...', 'nj', 'mo', 'tn', 'guam', 'rio de janeiro', 'armed services europe', 'tejas', 'rheinland-pfalz', 'midwest', 'canada', 'western pennsylvania', 'ae', 'british  columbia', 'dc', 'northern territory', 'va', 'british columbia', 'n.j.', 'pella', 'ap', 'ok', 'illlinois', 'anywhere - usa', 'bc', 'manitoba', 'yedor', 'mi', 'montreal,quebec', 'tenessee', 'ma', 'northwest territories', 'england', 'unknown', 'new  york', 'minnasota', 'florida keys', 'nova scotia', 'queensland', 'wv', 'friuli venezia giulia', 'san diego', 'city', 'yukon', 'wales', 'ak.', 'ny', 'massachusattes', 'upstate new york', 'mississippi39571', 'ab', 'brithish columbia', 'wva', 'washington state', 'campania', 'veneto', 'anystateq', 'calabria', 'ar', 'virgin islands', 'id', 'aberta', 'lombardia', 'québec', 'ap (armed forces pacific)', 'quit', 'co', 'armed forces europe', 'massachussetts', 'nm', 'n carolina', 'nunavut', 'ithaca', 'tasmania', 'baden-wuerttemberg', 'callif', 'ga.', 'georga', 'saskatchewan', 'b.c', 'michigan/new jersey', 'moving', 'wa', 'private', 'new brunswick/alberta', 's. carolina', 'ca', 'state of continuing flux', 'abruzzo', 'ga', 'az', 'piemonte', 'b.c.', 'traveling nurse do 3 months at a time all over us', 'yukon territory', 'australian capital territory', 'puerto rico', 'armed forces pacific', 'travelling', 'my own little world', 'usa', 'tx', 'quebec', 'marche', 'il', 'mn', 'c.t', 'newfoundland', 'ontario', 'abilene', 'or', 'alberta'}\n"
     ]
    }
   ],
   "source": [
    "us_states = {\n",
    "    'alabama', 'alaska', 'arizona', 'arkansas', 'california', 'colorado', 'connecticut', 'delaware',\n",
    "    'florida', 'georgia', 'hawaii', 'idaho', 'illinois', 'indiana', 'iowa', 'kansas', 'kentucky',\n",
    "    'louisiana', 'maine', 'maryland', 'massachusetts', 'michigan', 'minnesota', 'mississippi', 'missouri',\n",
    "    'montana', 'nebraska', 'nevada', 'new hampshire', 'new jersey', 'new mexico', 'new york', 'north carolina',\n",
    "    'north dakota', 'ohio', 'oklahoma', 'oregon', 'pennsylvania', 'rhode island', 'south carolina',\n",
    "    'south dakota', 'tennessee', 'texas', 'utah', 'vermont', 'virginia', 'washington', 'west virginia',\n",
    "    'wisconsin', 'wyoming'\n",
    "}\n",
    "\n",
    "# Check if each state abbreviation is valid\n",
    "valid_states = us_states\n",
    "invalid_states = set(dataset['State']) - valid_states\n",
    "print(\"Invalid states:\", invalid_states)"
   ]
  },
  {
   "cell_type": "code",
   "execution_count": 1533,
   "id": "78347fba",
   "metadata": {},
   "outputs": [
    {
     "name": "stdout",
     "output_type": "stream",
     "text": [
      "Invalid provinces: {'onataio', 'yukon', 'united states virgin islands', 'wales', 'ak.', 'ny', 'massachusattes', 'upstate new york', 'mississippi39571', 'sc', 'ab', 'brithish columbia', 'wva', 'hamburg', 'niagra falls', 'washington state', 'pa', 'south korea', 'or', 'oh', 'toscana', 'campania', 'veneto', 'anystateq', 'calabria', 'ron see comments pls ...', 'nj', 'ar', 'mo', 'virgin islands', 'tn', 'guam', 'rio de janeiro', 'armed services europe', 'id', 'tejas', 'aberta', 'lombardia', 'québec', 'ap (armed forces pacific)', 'quit', 'rheinland-pfalz', 'co', 'armed forces europe', 'midwest', 'massachussetts', 'nm', 'n carolina', 'canada', 'western pennsylvania', 'nunavut', 'ae', 'ithaca', 'british  columbia', 'tasmania', 'baden-wuerttemberg', 'dc', 'callif', 'northern territory', 'ga.', 'va', 'georga', 'b.c', 'michigan/new jersey', 'n.j.', 'pella', 'ap', 'moving', 'ok', 'wa', 'private', 'new brunswick/alberta', 's. carolina', 'ca', 'illlinois', 'anywhere - usa', 'state of continuing flux', 'abruzzo', 'ga', 'az', 'bc', 'yedor', 'piemonte', 'mi', 'b.c.', 'traveling nurse do 3 months at a time all over us', 'yukon territory', 'australian capital territory', 'puerto rico', 'armed forces pacific', 'montreal,quebec', 'tenessee', 'travelling', 'my own little world', 'usa', 'tx', 'ma', 'marche', 'northwest territories', 'england', 'unknown', 'new  york', 'il', 'minnasota', 'mn', 'c.t', 'newfoundland', 'florida keys', 'queensland', 'wv', 'abilene', 'friuli venezia giulia', 'san diego', 'city'}\n"
     ]
    }
   ],
   "source": [
    "# List of Canadian provinces' abbreviations\n",
    "canadian_provinces = {\n",
    "    'alberta', 'british columbia', 'manitoba', 'new brunswick', 'newfoundland and labrador',\n",
    "    'nova scotia', 'ontario', 'prince edward island', 'quebec', 'saskatchewan'\n",
    "}\n",
    "\n",
    "\n",
    "# Check if each entry in the \"state\" column is a valid Canadian province\n",
    "invalid_provinces = invalid_states - canadian_provinces\n",
    "print(\"Invalid provinces:\", invalid_provinces)"
   ]
  },
  {
   "cell_type": "markdown",
   "id": "411ef60c",
   "metadata": {},
   "source": [
    "As observed, numerous invalid states and provinces appear to be either incorrect entries or typographical errors. Since I lack the authority to manually rectify the dataset's spellings, I'll opt to eliminate all rows containing invalid entries despite its potential impact on our dataset. The removal of numerous observations that might have otherwise enhanced the precision of our recommendation system, but dropping them is a better option than keeping false values."
   ]
  },
  {
   "cell_type": "code",
   "execution_count": 1534,
   "id": "24f891fb",
   "metadata": {},
   "outputs": [
    {
     "data": {
      "text/plain": [
       "(523860, 12)"
      ]
     },
     "execution_count": 1534,
     "metadata": {},
     "output_type": "execute_result"
    }
   ],
   "source": [
    "# Create a boolean mask to identify rows with provinces listed in invalid_provinces\n",
    "mask = dataset['State'].str.lower().isin(invalid_provinces)\n",
    "\n",
    "# Drop rows with provinces listed in invalid_provinces\n",
    "dataset = dataset[~mask]\n",
    "dataset.shape"
   ]
  },
  {
   "cell_type": "markdown",
   "id": "40a3bd21",
   "metadata": {},
   "source": [
    "I will leave the responsiblity of the accuracy of other information, such as authors and book titles, to the data collectors, as my current capabilities do not allow me to analyze them comprehensively. "
   ]
  },
  {
   "cell_type": "markdown",
   "id": "13ae048f",
   "metadata": {},
   "source": [
    "\n",
    "\n",
    "\n"
   ]
  },
  {
   "cell_type": "markdown",
   "id": "bc5fc629",
   "metadata": {},
   "source": [
    "## Data Vizualisation"
   ]
  },
  {
   "cell_type": "markdown",
   "id": "44970eb8",
   "metadata": {},
   "source": [
    "Let's plot our variables and see if we can ge any insights on the data. "
   ]
  },
  {
   "cell_type": "code",
   "execution_count": 1535,
   "id": "6442f19b",
   "metadata": {},
   "outputs": [],
   "source": [
    "#numerical = dataset[['user_id','age','rating', 'year_of_publication']].copy()\n",
    "#text = dataset[['book_title','book_author','publisher','Summary','Language','Category','city','city','country']].copy()"
   ]
  },
  {
   "cell_type": "code",
   "execution_count": 1536,
   "id": "66946175",
   "metadata": {},
   "outputs": [
    {
     "data": {
      "text/html": [
       "<div>\n",
       "<style scoped>\n",
       "    .dataframe tbody tr th:only-of-type {\n",
       "        vertical-align: middle;\n",
       "    }\n",
       "\n",
       "    .dataframe tbody tr th {\n",
       "        vertical-align: top;\n",
       "    }\n",
       "\n",
       "    .dataframe thead th {\n",
       "        text-align: right;\n",
       "    }\n",
       "</style>\n",
       "<table border=\"1\" class=\"dataframe\">\n",
       "  <thead>\n",
       "    <tr style=\"text-align: right;\">\n",
       "      <th></th>\n",
       "      <th>User_id</th>\n",
       "      <th>Age</th>\n",
       "      <th>Rating</th>\n",
       "      <th>Book_title</th>\n",
       "      <th>Book_author</th>\n",
       "      <th>Year_of_publication</th>\n",
       "      <th>Publisher</th>\n",
       "      <th>Summary</th>\n",
       "      <th>Language</th>\n",
       "      <th>Category</th>\n",
       "      <th>State</th>\n",
       "      <th>Country</th>\n",
       "    </tr>\n",
       "  </thead>\n",
       "  <tbody>\n",
       "    <tr>\n",
       "      <th>0</th>\n",
       "      <td>2</td>\n",
       "      <td>18.0000</td>\n",
       "      <td>0</td>\n",
       "      <td>Classical mythology</td>\n",
       "      <td>Mark p. o. morford</td>\n",
       "      <td>2002.0</td>\n",
       "      <td>Oxford university press</td>\n",
       "      <td>Provides an introduction to classical myths pl...</td>\n",
       "      <td>En</td>\n",
       "      <td>['social science']</td>\n",
       "      <td>california</td>\n",
       "      <td>Usa</td>\n",
       "    </tr>\n",
       "    <tr>\n",
       "      <th>1</th>\n",
       "      <td>8</td>\n",
       "      <td>34.7439</td>\n",
       "      <td>5</td>\n",
       "      <td>Clara callan</td>\n",
       "      <td>Richard bruce wright</td>\n",
       "      <td>2001.0</td>\n",
       "      <td>Harperflamingo canada</td>\n",
       "      <td>In a small town in canada, clara callan reluct...</td>\n",
       "      <td>En</td>\n",
       "      <td>['actresses']</td>\n",
       "      <td>ontario</td>\n",
       "      <td>Canada</td>\n",
       "    </tr>\n",
       "    <tr>\n",
       "      <th>2</th>\n",
       "      <td>11400</td>\n",
       "      <td>49.0000</td>\n",
       "      <td>0</td>\n",
       "      <td>Clara callan</td>\n",
       "      <td>Richard bruce wright</td>\n",
       "      <td>2001.0</td>\n",
       "      <td>Harperflamingo canada</td>\n",
       "      <td>In a small town in canada, clara callan reluct...</td>\n",
       "      <td>En</td>\n",
       "      <td>['actresses']</td>\n",
       "      <td>ontario</td>\n",
       "      <td>Canada</td>\n",
       "    </tr>\n",
       "    <tr>\n",
       "      <th>4</th>\n",
       "      <td>41385</td>\n",
       "      <td>34.7439</td>\n",
       "      <td>0</td>\n",
       "      <td>Clara callan</td>\n",
       "      <td>Richard bruce wright</td>\n",
       "      <td>2001.0</td>\n",
       "      <td>Harperflamingo canada</td>\n",
       "      <td>In a small town in canada, clara callan reluct...</td>\n",
       "      <td>En</td>\n",
       "      <td>['actresses']</td>\n",
       "      <td>ontario</td>\n",
       "      <td>Canada</td>\n",
       "    </tr>\n",
       "    <tr>\n",
       "      <th>5</th>\n",
       "      <td>67544</td>\n",
       "      <td>30.0000</td>\n",
       "      <td>8</td>\n",
       "      <td>Clara callan</td>\n",
       "      <td>Richard bruce wright</td>\n",
       "      <td>2001.0</td>\n",
       "      <td>Harperflamingo canada</td>\n",
       "      <td>In a small town in canada, clara callan reluct...</td>\n",
       "      <td>En</td>\n",
       "      <td>['actresses']</td>\n",
       "      <td>ontario</td>\n",
       "      <td>Canada</td>\n",
       "    </tr>\n",
       "  </tbody>\n",
       "</table>\n",
       "</div>"
      ],
      "text/plain": [
       "   User_id      Age  Rating           Book_title           Book_author  \\\n",
       "0        2  18.0000       0  Classical mythology    Mark p. o. morford   \n",
       "1        8  34.7439       5         Clara callan  Richard bruce wright   \n",
       "2    11400  49.0000       0         Clara callan  Richard bruce wright   \n",
       "4    41385  34.7439       0         Clara callan  Richard bruce wright   \n",
       "5    67544  30.0000       8         Clara callan  Richard bruce wright   \n",
       "\n",
       "   Year_of_publication                Publisher  \\\n",
       "0               2002.0  Oxford university press   \n",
       "1               2001.0    Harperflamingo canada   \n",
       "2               2001.0    Harperflamingo canada   \n",
       "4               2001.0    Harperflamingo canada   \n",
       "5               2001.0    Harperflamingo canada   \n",
       "\n",
       "                                             Summary Language  \\\n",
       "0  Provides an introduction to classical myths pl...       En   \n",
       "1  In a small town in canada, clara callan reluct...       En   \n",
       "2  In a small town in canada, clara callan reluct...       En   \n",
       "4  In a small town in canada, clara callan reluct...       En   \n",
       "5  In a small town in canada, clara callan reluct...       En   \n",
       "\n",
       "             Category       State Country  \n",
       "0  ['social science']  california     Usa  \n",
       "1       ['actresses']     ontario  Canada  \n",
       "2       ['actresses']     ontario  Canada  \n",
       "4       ['actresses']     ontario  Canada  \n",
       "5       ['actresses']     ontario  Canada  "
      ]
     },
     "execution_count": 1536,
     "metadata": {},
     "output_type": "execute_result"
    }
   ],
   "source": [
    "import seaborn as sns\n",
    "\n",
    "dataset.head()"
   ]
  },
  {
   "cell_type": "markdown",
   "id": "a114b0a7",
   "metadata": {},
   "source": [
    "Before we start plotting our variables, let's get a brief idea of how the data is distributed through the summary statistics. "
   ]
  },
  {
   "cell_type": "code",
   "execution_count": 1537,
   "id": "2957f7bd",
   "metadata": {},
   "outputs": [
    {
     "data": {
      "text/html": [
       "<div>\n",
       "<style scoped>\n",
       "    .dataframe tbody tr th:only-of-type {\n",
       "        vertical-align: middle;\n",
       "    }\n",
       "\n",
       "    .dataframe tbody tr th {\n",
       "        vertical-align: top;\n",
       "    }\n",
       "\n",
       "    .dataframe thead th {\n",
       "        text-align: right;\n",
       "    }\n",
       "</style>\n",
       "<table border=\"1\" class=\"dataframe\">\n",
       "  <thead>\n",
       "    <tr style=\"text-align: right;\">\n",
       "      <th></th>\n",
       "      <th>User_id</th>\n",
       "      <th>Age</th>\n",
       "      <th>Rating</th>\n",
       "      <th>Year_of_publication</th>\n",
       "    </tr>\n",
       "  </thead>\n",
       "  <tbody>\n",
       "    <tr>\n",
       "      <th>count</th>\n",
       "      <td>523860.000000</td>\n",
       "      <td>523860.000000</td>\n",
       "      <td>523860.000000</td>\n",
       "      <td>523860.000000</td>\n",
       "    </tr>\n",
       "    <tr>\n",
       "      <th>mean</th>\n",
       "      <td>142692.147181</td>\n",
       "      <td>36.947742</td>\n",
       "      <td>2.732024</td>\n",
       "      <td>1995.754453</td>\n",
       "    </tr>\n",
       "    <tr>\n",
       "      <th>std</th>\n",
       "      <td>79644.819530</td>\n",
       "      <td>10.483978</td>\n",
       "      <td>3.828862</td>\n",
       "      <td>6.722098</td>\n",
       "    </tr>\n",
       "    <tr>\n",
       "      <th>min</th>\n",
       "      <td>2.000000</td>\n",
       "      <td>5.000000</td>\n",
       "      <td>0.000000</td>\n",
       "      <td>1901.000000</td>\n",
       "    </tr>\n",
       "    <tr>\n",
       "      <th>25%</th>\n",
       "      <td>73588.000000</td>\n",
       "      <td>31.000000</td>\n",
       "      <td>0.000000</td>\n",
       "      <td>1993.000000</td>\n",
       "    </tr>\n",
       "    <tr>\n",
       "      <th>50%</th>\n",
       "      <td>143763.000000</td>\n",
       "      <td>34.743900</td>\n",
       "      <td>0.000000</td>\n",
       "      <td>1997.000000</td>\n",
       "    </tr>\n",
       "    <tr>\n",
       "      <th>75%</th>\n",
       "      <td>212898.000000</td>\n",
       "      <td>43.000000</td>\n",
       "      <td>7.000000</td>\n",
       "      <td>2001.000000</td>\n",
       "    </tr>\n",
       "    <tr>\n",
       "      <th>max</th>\n",
       "      <td>278854.000000</td>\n",
       "      <td>99.000000</td>\n",
       "      <td>10.000000</td>\n",
       "      <td>2005.000000</td>\n",
       "    </tr>\n",
       "  </tbody>\n",
       "</table>\n",
       "</div>"
      ],
      "text/plain": [
       "             User_id            Age         Rating  Year_of_publication\n",
       "count  523860.000000  523860.000000  523860.000000        523860.000000\n",
       "mean   142692.147181      36.947742       2.732024          1995.754453\n",
       "std     79644.819530      10.483978       3.828862             6.722098\n",
       "min         2.000000       5.000000       0.000000          1901.000000\n",
       "25%     73588.000000      31.000000       0.000000          1993.000000\n",
       "50%    143763.000000      34.743900       0.000000          1997.000000\n",
       "75%    212898.000000      43.000000       7.000000          2001.000000\n",
       "max    278854.000000      99.000000      10.000000          2005.000000"
      ]
     },
     "execution_count": 1537,
     "metadata": {},
     "output_type": "execute_result"
    }
   ],
   "source": [
    "dataset.describe()"
   ]
  },
  {
   "cell_type": "markdown",
   "id": "ecdd2069",
   "metadata": {},
   "source": [
    "Here we observe that the standard deviation is relatively small for both the \"age\" and \"year of publication\" variables. This indicates that the data is tightly clustered around the mean and may exhibit a distribution that is approximately normal, particularly if the distribution is reasonably symmetrical around the mean. However, for the \"rating\" variable, the standard deviation is notably high, suggesting a significant skewness in the data.\n",
    "\n",
    "While the mean and standard deviation provide insight into the central tendency and variability of the data, they do not tell us about any trends or patterns over time. Further analysis, such as plotting the distribution of the variables or examining trends over time, may reveal more about the characteristics of the dataset.\n",
    "\n",
    "Let's start by plotting the \"Age\" column:"
   ]
  },
  {
   "cell_type": "code",
   "execution_count": 1538,
   "id": "c7c5b683",
   "metadata": {},
   "outputs": [
    {
     "data": {
      "image/png": "[encoded data removed]",
      "text/plain": [
       "<Figure size 1080x432 with 2 Axes>"
      ]
     },
     "metadata": {
      "needs_background": "light"
     },
     "output_type": "display_data"
    }
   ],
   "source": [
    "# Create a figure with two subplots\n",
    "fig, axes = plt.subplots(1, 2, figsize=(15, 6))\n",
    "\n",
    "# Plot histogram of age\n",
    "sns.histplot(data=dataset, x='Age', bins=50, ax=axes[0])\n",
    "axes[0].set_title('Histogram of Age')\n",
    "axes[0].set_xlabel('Age')\n",
    "axes[0].set_ylabel('Frequency')\n",
    "\n",
    "# Plot boxplot of age\n",
    "sns.boxplot(data=dataset, y='Age', ax=axes[1])\n",
    "axes[1].set_title('Boxplot of Age')\n",
    "axes[1].set_ylabel('Age')\n",
    "\n",
    "# Adjust layout\n",
    "plt.tight_layout()\n",
    "\n",
    "# Show plot\n",
    "plt.show()"
   ]
  },
  {
   "cell_type": "markdown",
   "id": "d05548b9",
   "metadata": {},
   "source": [
    "The distribution exhibits a rough symmetry around the mean; however, it is notably skewed to the left, likely due to outliers toward the higher values, as evident from the boxplot. \n",
    "\n",
    "After ensuring the reasonableness of all age entries such that they are between  the [5,110] range, and considering that the outliers do not appear strange in any discernible manner, I lack sufficient evidence to question their authenticity. Thus, I'll proceed under the assumption that they represent genuine observations from older individuals.\n",
    "\n",
    "With this in mind, let's revisit the visualization of this column for more analysis:"
   ]
  },
  {
   "cell_type": "code",
   "execution_count": 1539,
   "id": "2cac5a4c",
   "metadata": {},
   "outputs": [
    {
     "data": {
      "image/png": "[encoded data removed]",
      "text/plain": [
       "<Figure size 1080x432 with 2 Axes>"
      ]
     },
     "metadata": {
      "needs_background": "light"
     },
     "output_type": "display_data"
    }
   ],
   "source": [
    "# Create a figure with two subplots\n",
    "fig, axes = plt.subplots(1, 2, figsize=(15, 6))\n",
    "\n",
    "# Plot histogram of age\n",
    "sns.histplot(data=dataset, x='Age', bins=50, ax=axes[0])\n",
    "axes[0].set_title('Histogram of Age')\n",
    "axes[0].set_xlabel('Age')\n",
    "axes[0].set_ylabel('Frequency')\n",
    "\n",
    "# Plot KDE plot of age\n",
    "sns.kdeplot(data=dataset, x='Age', ax=axes[1], color='skyblue', linestyle='-', linewidth=2)\n",
    "axes[1].set_title('Histogram with Kernel Density Estimate')\n",
    "axes[1].set_xlabel('Value')\n",
    "axes[1].set_ylabel('Frequency')\n",
    "axes[1].grid(True, linestyle='--', alpha=0.2)\n",
    "\n",
    "# Adjust layout\n",
    "plt.tight_layout()\n",
    "\n",
    "# Show plot\n",
    "plt.show()"
   ]
  },
  {
   "cell_type": "markdown",
   "id": "3223837a",
   "metadata": {},
   "source": [
    "Again by plotting the KDE plot, we can clearly see here that it is not following a normal ditribution.\n",
    "But we can still say that there is a relatively even spread of ages across the dataset, with a peak around the younger or middle-aged range.\n",
    "This phenomenon likely stems from the nature of the data source being an online website. It's probable that older individuals and children are less inclined to provide book ratings on such platforms."
   ]
  },
  {
   "cell_type": "markdown",
   "id": "0e8109df",
   "metadata": {},
   "source": [
    "### Outliers"
   ]
  },
  {
   "cell_type": "markdown",
   "id": "79084b80",
   "metadata": {},
   "source": [
    "Now let's plot the distribution of the \"year_of_publication\" variable: "
   ]
  },
  {
   "cell_type": "code",
   "execution_count": 1540,
   "id": "cae982ad",
   "metadata": {
    "scrolled": false
   },
   "outputs": [
    {
     "data": {
      "image/png": "[encoded data removed]",
      "text/plain": [
       "<Figure size 864x432 with 2 Axes>"
      ]
     },
     "metadata": {
      "needs_background": "light"
     },
     "output_type": "display_data"
    }
   ],
   "source": [
    "# Create subplots\n",
    "fig, axes = plt.subplots(1, 2, figsize=(12, 6))\n",
    "\n",
    "# Plot histogram of year of publication\n",
    "sns.histplot(data=dataset, x='Year_of_publication', bins=80, ax=axes[0])\n",
    "axes[0].set_title('Histogram of Year of Publication')\n",
    "axes[0].set_xlabel('Year of Publication')\n",
    "axes[0].set_ylabel('Frequency')\n",
    "\n",
    "# Plot box plot of year of publication\n",
    "sns.boxplot(data=dataset, x='Year_of_publication', ax=axes[1])\n",
    "axes[1].set_title('Box Plot of Year of Publication')\n",
    "\n",
    "# Adjust layout\n",
    "plt.tight_layout()\n",
    "\n",
    "# Show plots\n",
    "plt.show()\n"
   ]
  },
  {
   "cell_type": "markdown",
   "id": "7d5e5f96",
   "metadata": {},
   "source": [
    "Similar to the 'Age' column, the distribution of the 'Year_of_publication' column appears to be skewed too, but this time is more extreme. This skewness suggests the possibility of outliers, which could be the rare books shown in the boxplot that were rated by users and were published before the 1940s. \n",
    "\n",
    "This totally makes sense considering that the majority of popular books in our dataset are likely to have been published in recent years and so contemporary titles tend to receive more attention than those published several decades ago.\n"
   ]
  },
  {
   "cell_type": "code",
   "execution_count": 1541,
   "id": "ffb653a9",
   "metadata": {},
   "outputs": [
    {
     "data": {
      "text/html": [
       "<div>\n",
       "<style scoped>\n",
       "    .dataframe tbody tr th:only-of-type {\n",
       "        vertical-align: middle;\n",
       "    }\n",
       "\n",
       "    .dataframe tbody tr th {\n",
       "        vertical-align: top;\n",
       "    }\n",
       "\n",
       "    .dataframe thead th {\n",
       "        text-align: right;\n",
       "    }\n",
       "</style>\n",
       "<table border=\"1\" class=\"dataframe\">\n",
       "  <thead>\n",
       "    <tr style=\"text-align: right;\">\n",
       "      <th></th>\n",
       "      <th>User_id</th>\n",
       "      <th>Age</th>\n",
       "      <th>Rating</th>\n",
       "      <th>Book_title</th>\n",
       "      <th>Book_author</th>\n",
       "      <th>Year_of_publication</th>\n",
       "      <th>Publisher</th>\n",
       "      <th>Summary</th>\n",
       "      <th>Language</th>\n",
       "      <th>Category</th>\n",
       "      <th>State</th>\n",
       "      <th>Country</th>\n",
       "    </tr>\n",
       "  </thead>\n",
       "  <tbody>\n",
       "    <tr>\n",
       "      <th>830737</th>\n",
       "      <td>87141</td>\n",
       "      <td>34.7439</td>\n",
       "      <td>0</td>\n",
       "      <td>Last temp christcl</td>\n",
       "      <td>Nikos kazantzakis</td>\n",
       "      <td>1901.0</td>\n",
       "      <td>Simon &amp; schuster</td>\n",
       "      <td>Now a major motion picture, the last temptatio...</td>\n",
       "      <td>En</td>\n",
       "      <td>['bible']</td>\n",
       "      <td>california</td>\n",
       "      <td>Usa</td>\n",
       "    </tr>\n",
       "    <tr>\n",
       "      <th>962972</th>\n",
       "      <td>184299</td>\n",
       "      <td>31.0000</td>\n",
       "      <td>0</td>\n",
       "      <td>Dale crnegie scrpb</td>\n",
       "      <td>Dorothy carnegie</td>\n",
       "      <td>1901.0</td>\n",
       "      <td>Simon &amp; schuster</td>\n",
       "      <td>Inspirational and practical advice on courage ...</td>\n",
       "      <td>En</td>\n",
       "      <td>['conduct of life quotations, maxims, etc.']</td>\n",
       "      <td>nebraska</td>\n",
       "      <td>Usa</td>\n",
       "    </tr>\n",
       "  </tbody>\n",
       "</table>\n",
       "</div>"
      ],
      "text/plain": [
       "        User_id      Age  Rating          Book_title        Book_author  \\\n",
       "830737    87141  34.7439       0  Last temp christcl  Nikos kazantzakis   \n",
       "962972   184299  31.0000       0  Dale crnegie scrpb   Dorothy carnegie   \n",
       "\n",
       "        Year_of_publication         Publisher  \\\n",
       "830737               1901.0  Simon & schuster   \n",
       "962972               1901.0  Simon & schuster   \n",
       "\n",
       "                                                  Summary Language  \\\n",
       "830737  Now a major motion picture, the last temptatio...       En   \n",
       "962972  Inspirational and practical advice on courage ...       En   \n",
       "\n",
       "                                            Category       State Country  \n",
       "830737                                     ['bible']  california     Usa  \n",
       "962972  ['conduct of life quotations, maxims, etc.']    nebraska     Usa  "
      ]
     },
     "execution_count": 1541,
     "metadata": {},
     "output_type": "execute_result"
    }
   ],
   "source": [
    "# Filter out rows where the 'age' column falls outside the range [5, 100]\n",
    "outliers = dataset[(dataset['Year_of_publication'] < 1902)]\n",
    "\n",
    "# Print invalid entries\n",
    "outliers.head()"
   ]
  },
  {
   "cell_type": "markdown",
   "id": "9a1dac7d",
   "metadata": {},
   "source": [
    "The publication year of 1901 is significantly earlier than typical publication years for books in this dataset. This could indicate a data entry error, a misinterpretation of historical data, or an outlier that needs further investigation.\n",
    "Due to the intriguing nature of this date, I decided to do some research and these 2 books was actually published in 1955 and 1959 and not in 1901 which makes more sense. Their titles also contain some typos. Let's correct this information and replot: "
   ]
  },
  {
   "cell_type": "code",
   "execution_count": 1542,
   "id": "144d8e7a",
   "metadata": {},
   "outputs": [],
   "source": [
    "book_row_index = dataset[dataset['Book_title'] == \"Last temp christcl\"].index[0]\n",
    "\n",
    "# Update the year of publication for the book\n",
    "dataset.at[book_row_index, 'Year_of_publication'] = 1955.0\n",
    "\n",
    "# Update the name of the book\n",
    "dataset.at[book_row_index, 'Book_title'] = \"Last temp christ\"\n"
   ]
  },
  {
   "cell_type": "code",
   "execution_count": 1543,
   "id": "fff39c37",
   "metadata": {},
   "outputs": [],
   "source": [
    "book_row_index = dataset[dataset['Book_title'] == \"Dale crnegie scrpb\"].index[0]\n",
    "\n",
    "# Update the year of publication for the book\n",
    "dataset.at[book_row_index, 'Year_of_publication'] = 1959.0\n",
    "\n",
    "# Update the name of the book\n",
    "dataset.at[book_row_index, 'Book_title'] = \"Dale Carnegie scrapbook\""
   ]
  },
  {
   "cell_type": "code",
   "execution_count": 1544,
   "id": "04083c36",
   "metadata": {},
   "outputs": [
    {
     "data": {
      "image/png": "[encoded data removed]",
      "text/plain": [
       "<Figure size 576x432 with 1 Axes>"
      ]
     },
     "metadata": {
      "needs_background": "light"
     },
     "output_type": "display_data"
    }
   ],
   "source": [
    "plt.figure(figsize=(8, 6))\n",
    "sns.histplot(data=dataset, x='Year_of_publication', bins=100)  # Adjust the number of bins as needed\n",
    "plt.title(f'Histogram of year of publication')\n",
    "plt.xlabel('year of publication')\n",
    "plt.ylabel('Frequency')\n",
    "plt.show()"
   ]
  },
  {
   "cell_type": "markdown",
   "id": "b4324fe2",
   "metadata": {},
   "source": [
    "Now for the rest of the outliers, there isn't sufficient evidence to dismiss them, and since I can't inspect the correctedness of all their publication year, I will just assume that they stem from genuine observations by individuals with a penchant for older books—a niche demographic. Given that their presence is unlikely to significantly affect the performance of my recommender system, I've chosen to retain the data in its current state. Nonetheless, it's fascinating to glean insights from the various data distributions about the population."
   ]
  },
  {
   "cell_type": "markdown",
   "id": "d8826714",
   "metadata": {},
   "source": [
    "The dataset remains right-skewed even after dealing with the extreme outliers, which is quite normal as the dataset was heavily skewed to begin with. Removing a single outlier may not completely alter the overall shape of the distribution, particularly since the dataset is particulary large and there are probably other values that contribute to the skewness. \n",
    "\n",
    "The dataset reveals that books rated by users predominantly originate from the 1940s onward, with a notable concentration of recent publications, particularly from the 2000s. This trend could stem from multiple factors, including a heightened interest in contemporary literature among readers, increased accessibility to digital records favoring recent publications, and potential shifts in publishing practices over time. Moreover, user preferences may play a role, with individuals more inclined to rate books aligned with modern themes and authors. Consequently, the distribution of publication years in the dataset reflects a dynamic interplay between evolving reader interests, publishing trends, and the availability of data."
   ]
  },
  {
   "cell_type": "markdown",
   "id": "05f72159",
   "metadata": {},
   "source": [
    "### Data bias "
   ]
  },
  {
   "cell_type": "code",
   "execution_count": 1545,
   "id": "f0d67f0b",
   "metadata": {},
   "outputs": [
    {
     "data": {
      "image/png": "[encoded data removed]",
      "text/plain": [
       "<Figure size 576x432 with 1 Axes>"
      ]
     },
     "metadata": {
      "needs_background": "light"
     },
     "output_type": "display_data"
    }
   ],
   "source": [
    "plt.figure(figsize=(8, 6))\n",
    "sns.histplot(data=dataset, x='Rating', bins=10)  # Adjust the number of bins as needed\n",
    "plt.title(f'Histogram of rating')\n",
    "plt.xlabel('rating')\n",
    "plt.ylabel('Frequency')\n",
    "plt.show()"
   ]
  },
  {
   "cell_type": "markdown",
   "id": "c4a9a3e3",
   "metadata": {},
   "source": [
    "The high frequency of 0/10 ratings may suggest that some users have strong negative opinions about certain books, leading them to rate them as low as possible. Conversely, the relatively low frequency of other ratings may indicate a lack of extreme positive opinions or a tendency for users to be more reserved in their ratings. This pattern could also be influenced by the phenomenon where individuals are more inclined to express their opinions, particularly negative ones, when it comes to books they disliked or found controversial. Negative emotions often evoke stronger responses and may prompt individuals to voice their opinions more readily compared to positive emotions.\n",
    "\n",
    "Such a large gap in frequency could also be indicative of data quality issues. It's possible that there is bias, errors, or anomalies in the data, leading to an inflated number of 0/10 ratings. \n",
    "Given that the data was gathered from an online platform, there is limited oversight regarding the accuracy or sincerity of users' responses. It is plausible that users assign a 0 rating arbitrarily, particularly when prompted by the website to rate books they have downloaded but not yet read. Alternatively, the website might automatically assign a 0 rating if users opt not to provide a rating."
   ]
  },
  {
   "cell_type": "code",
   "execution_count": 1546,
   "id": "7962b02e",
   "metadata": {},
   "outputs": [
    {
     "name": "stdout",
     "output_type": "stream",
     "text": [
      "Percentage of 0 ratings in the 'rating' column: 64.32%\n"
     ]
    }
   ],
   "source": [
    "# Step 1: Count the total number of ratings\n",
    "total_ratings = len(dataset)\n",
    "\n",
    "# Step 2: Count the number of 0 ratings in the 'rating' column\n",
    "zero_ratings = (dataset['Rating'] == 0).sum()\n",
    "\n",
    "# Step 3: Calculate the percentage of 0 ratings\n",
    "percentage_zero_ratings = (zero_ratings / total_ratings) * 100\n",
    "\n",
    "print(f\"Percentage of 0 ratings in the 'rating' column: {percentage_zero_ratings:.2f}%\")"
   ]
  },
  {
   "cell_type": "markdown",
   "id": "cea13f0a",
   "metadata": {},
   "source": [
    "As we can see, 64.32% of our dataset is constitued of 0/10 ratings.\n",
    "Given the significant proportion of extremely low ratings in the dataset, which may be attributed to various factors including data quality issues, user behavior, or characteristics of the books, it's essential to address this issue even without the ability to collect more data or ensure the sincerity of users providing ratings. While we may not have a perfect solution, making assumptions and implementing changes to mitigate the impact of the 63% of ratings representing 0 is necessary to improve the overall quality of the dataset. Therefore, we will proceed with a little more investigation and then start some imputation,  to handle these low ratings while acknowledging the limitations and uncertainties associated with these approaches. Additionally, efforts to improve data quality and understand user behavior should be pursued in parallel to ensure the reliability and validity of future analyses.\n",
    "\n",
    "Let's start by investigating the users that made these 0/10 ratings: "
   ]
  },
  {
   "cell_type": "code",
   "execution_count": 1547,
   "id": "94c46ffa",
   "metadata": {},
   "outputs": [
    {
     "name": "stdout",
     "output_type": "stream",
     "text": [
      "Top 5 most common categories for books with 0 ratings:\n",
      "198711    3910\n",
      "35859     3032\n",
      "212898    2643\n",
      "153662    2643\n",
      "278418    2273\n",
      "Name: User_id, dtype: int64\n"
     ]
    }
   ],
   "source": [
    "zero_rating_books = dataset[dataset['Rating'] == 0]\n",
    "\n",
    "# Step 2: Group the filtered dataset by the category column and count occurrences\n",
    "category_counts = zero_rating_books['User_id'].value_counts()\n",
    "\n",
    "# Step 3: Sort the categories based on their frequency\n",
    "sorted_categories = category_counts.sort_values(ascending=False)\n",
    "\n",
    "# Step 4: Select the top 5 most common categories\n",
    "top_5_categories = sorted_categories.head(5)\n",
    "\n",
    "print(\"Top 5 most common categories for books with 0 ratings:\")\n",
    "print(top_5_categories)"
   ]
  },
  {
   "cell_type": "markdown",
   "id": "5a88102d",
   "metadata": {},
   "source": [
    "Here we observe the top 5 users who assigned 0/10 ratings to books. It's notably peculiar that a single user accounts for 3,910 of these 0/10 ratings. Let's investigate this further by plotting the rating habits of this user."
   ]
  },
  {
   "cell_type": "code",
   "execution_count": 1548,
   "id": "372ebecf",
   "metadata": {},
   "outputs": [
    {
     "data": {
      "image/png": "[encoded data removed]",
      "text/plain": [
       "<Figure size 720x432 with 1 Axes>"
      ]
     },
     "metadata": {
      "needs_background": "light"
     },
     "output_type": "display_data"
    }
   ],
   "source": [
    "# Step 1: Filter the dataset to include only ratings by the specific user\n",
    "target_user_id = int(198711)\n",
    "user_ratings = dataset[dataset['User_id'] == target_user_id]\n",
    "\n",
    "# Step 2: Group the filtered dataset by the rating values and count occurrences\n",
    "rating_frequencies = user_ratings['Rating'].value_counts().sort_index()\n",
    "\n",
    "# Step 3: Plot the rating frequencies as a histogram\n",
    "plt.figure(figsize=(10, 6))\n",
    "plt.bar(rating_frequencies.index, rating_frequencies.values, color='skyblue')\n",
    "plt.title(f'Rating Frequencies for User {target_user_id}')\n",
    "plt.xlabel('Rating')\n",
    "plt.ylabel('Frequency')\n",
    "plt.xticks(range(11))\n",
    "plt.grid(axis='y', linestyle='--', alpha=0.7)\n",
    "plt.show()"
   ]
  },
  {
   "cell_type": "code",
   "execution_count": 1549,
   "id": "55e8330f",
   "metadata": {},
   "outputs": [
    {
     "name": "stdout",
     "output_type": "stream",
     "text": [
      "0     3910\n",
      "4        2\n",
      "6        1\n",
      "7        1\n",
      "8        7\n",
      "10       1\n",
      "Name: Rating, dtype: int64\n"
     ]
    }
   ],
   "source": [
    "print(rating_frequencies)"
   ]
  },
  {
   "cell_type": "markdown",
   "id": "30001dc1",
   "metadata": {},
   "source": [
    "Upon closer examination of this user's activity, we discovered that besides the 3910 \"0/10\" reviews, they also assigned 2 ratings of 4/10,  1 rating of 6/10, 1 rating of 7/10, 7 ratings of 8/10 and 1 rating of 10/10. Such behavior is highly unusual, given that over 99% of their ratings are 0/10. \n",
    "We also tried to plot the publisher that the user rated 0/10 the most."
   ]
  },
  {
   "cell_type": "code",
   "execution_count": 1550,
   "id": "e977bfd6",
   "metadata": {
    "scrolled": false
   },
   "outputs": [
    {
     "name": "stdout",
     "output_type": "stream",
     "text": [
      "Book Title Frequencies for User 198711 with 0/10 ratings:\n",
      "Scholastic                       397\n",
      "Harlequin                        198\n",
      "Golden books                     120\n",
      "Pocket                           100\n",
      "Random house children's books     91\n",
      "                                ... \n",
      "Marvel entertainment group         1\n",
      "Smithmark publishers               1\n",
      "Farrar straus giroux               1\n",
      "Mcgraw hill children's pub         1\n",
      "Planeta pub corp                   1\n",
      "Name: Publisher, Length: 585, dtype: int64\n"
     ]
    }
   ],
   "source": [
    "user_zero_ratings = dataset[(dataset['User_id'] == target_user_id) & (dataset['Rating'] == 0)]\n",
    "\n",
    "# Step 2: Group the filtered dataset by the book titles and count occurrences\n",
    "book_title_frequencies = user_zero_ratings['Publisher'].value_counts()\n",
    "\n",
    "# Step 3: Display the frequencies of book titles\n",
    "print(\"Book Title Frequencies for User {} with 0/10 ratings:\".format(target_user_id))\n",
    "print(book_title_frequencies)"
   ]
  },
  {
   "cell_type": "markdown",
   "id": "8aa28a09",
   "metadata": {},
   "source": [
    "Let's see if the other top 0/10 reviewers share the same characteristics: "
   ]
  },
  {
   "cell_type": "code",
   "execution_count": null,
   "id": "81ffa91f",
   "metadata": {},
   "outputs": [],
   "source": [
    "# List of user IDs to plot histograms for\n",
    "user_ids = [int(35859), int(153662), int(212898)]\n",
    "\n",
    "# Create subplots\n",
    "fig, axs = plt.subplots(1, 3, figsize=(15, 5))\n",
    "\n",
    "# Iterate over user IDs and plot histograms\n",
    "for i, user_id in enumerate(user_ids):\n",
    "    user_ratings = dataset[dataset['User_id'] == user_id]['Rating']\n",
    "    axs[i].hist(user_ratings, bins=10, color='skyblue', edgecolor='black')\n",
    "    axs[i].set_title(f'Histogram of Ratings for User {user_id}')\n",
    "    axs[i].set_xlabel('Rating')\n",
    "    axs[i].set_ylabel('Frequency')\n",
    "    axs[i].grid(True)\n",
    "\n",
    "# Adjust layout\n",
    "plt.tight_layout()\n",
    "plt.show()"
   ]
  },
  {
   "cell_type": "markdown",
   "id": "998f1b80",
   "metadata": {},
   "source": [
    "they follow they exact same pattern as the first user as over 95% of their ratings are 0/10.\n",
    "We can also see that they rated 0/10 the most, pretty much the same publishers (see below) which might let us think that there either is some data collection or processing issues leading to inaccuracies in the ratings or that there could be a malicious intent behind the users' ratings. This mean that users may intentionally leave low ratings as a form of protest, retaliation, or trolling.This could be directed towards specific authors, publishers, or even the website itself."
   ]
  },
  {
   "cell_type": "code",
   "execution_count": null,
   "id": "3a8d58c9",
   "metadata": {},
   "outputs": [],
   "source": [
    "user_zero_ratings = dataset[(dataset['User_id'] == int(35859)) & (dataset['Rating'] == 0)]\n",
    "\n",
    "# Step 2: Group the filtered dataset by the book titles and count occurrences\n",
    "book_title_frequencies = user_zero_ratings['Publisher'].value_counts()\n",
    "\n",
    "# Step 3: Display the frequencies of book titles\n",
    "print(\"Book Title Frequencies for User {} with 0/10 ratings:\".format(target_user_id))\n",
    "print(book_title_frequencies)"
   ]
  },
  {
   "cell_type": "code",
   "execution_count": null,
   "id": "5e6016fe",
   "metadata": {},
   "outputs": [],
   "source": [
    "user_zero_ratings = dataset[(dataset['User_id'] == int(153662)) & (dataset['Rating'] == 0)]\n",
    "\n",
    "# Step 2: Group the filtered dataset by the book titles and count occurrences\n",
    "book_title_frequencies = user_zero_ratings['Publisher'].value_counts()\n",
    "\n",
    "# Step 3: Display the frequencies of book titles\n",
    "print(\"Book Title Frequencies for User {} with 0/10 ratings:\".format(target_user_id))\n",
    "print(book_title_frequencies)"
   ]
  },
  {
   "cell_type": "code",
   "execution_count": null,
   "id": "b05ecda4",
   "metadata": {},
   "outputs": [],
   "source": [
    "user_zero_ratings = dataset[(dataset['User_id'] == int(212898)) & (dataset['Rating'] == 0)]\n",
    "\n",
    "# Step 2: Group the filtered dataset by the book titles and count occurrences\n",
    "book_title_frequencies = user_zero_ratings['Publisher'].value_counts()\n",
    "\n",
    "# Step 3: Display the frequencies of book titles\n",
    "print(\"Book Title Frequencies for User {} with 0/10 ratings:\".format(target_user_id))\n",
    "print(book_title_frequencies)"
   ]
  },
  {
   "cell_type": "markdown",
   "id": "d9722f38",
   "metadata": {},
   "source": [
    "Another hypothesis would be that there could be systemic biases in the dataset, such as a biased sample of users or books, that skew the ratings distribution towards lower values. "
   ]
  },
  {
   "cell_type": "code",
   "execution_count": null,
   "id": "64440a74",
   "metadata": {},
   "outputs": [],
   "source": [
    "top_10_books = dataset['Book_title'].value_counts().head(10)\n",
    "# Plot the 10 most frequent book titles\n",
    "plt.figure(figsize=(10, 6))\n",
    "top_10_books.plot(kind='bar', color='skyblue')\n",
    "plt.title('Top 10 Most Frequent Book Titles')\n",
    "plt.xlabel('Book Title')\n",
    "plt.ylabel('Frequency')\n",
    "plt.xticks(rotation=45, ha='right')\n",
    "plt.tight_layout()\n",
    "plt.show()"
   ]
  },
  {
   "cell_type": "code",
   "execution_count": null,
   "id": "0dbffb85",
   "metadata": {},
   "outputs": [],
   "source": [
    "top_10_categories = dataset['Category'].value_counts().head(10)\n",
    "\n",
    "# Plot the 10 most frequent book titles\n",
    "plt.figure(figsize=(10, 6))\n",
    "top_10_books.plot(kind='bar', color='skyblue')\n",
    "plt.title('Top 10 Most Frequent Categories')\n",
    "plt.xlabel('Categories')\n",
    "plt.ylabel('Frequency')\n",
    "plt.xticks(rotation=45, ha='right')\n",
    "plt.tight_layout()\n",
    "plt.show()"
   ]
  },
  {
   "cell_type": "markdown",
   "id": "2c78076d",
   "metadata": {},
   "source": [
    "As evident from the data, the fiction category is disproportionately represented, with the book \"Wild Animus\" also appearing frequently. This could suggest several possibilities: Perhaps the website hosts a large number of fiction titles, which may not align with the preferences of the users, resulting in numerous low ratings. Alternatively, popular books like \"Wild Animus\" might elicit polarized opinions, with a substantial portion of readers giving it low ratings. Given the significant presence of these books in the dataset, such factors could contribute to the abundance of low ratings.\n",
    "\n",
    "In summary, the abundance of low ratings in the dataset can be attributed to either one or a mix of the following factors: they are including potential data collection or processing issues leading to inaccuracies, user behavior such as intentional low ratings, and content-related factors such as the disproportionate representation of fiction books and polarizing titles like \"Wild Animus.\" \n",
    "\n",
    "Either way, the \"rating\" column is very important to build a good recommendation system, hence we have no choice but to find a way to deal with them. Let's so some imputation with the mean ratings and re-plot. "
   ]
  },
  {
   "cell_type": "code",
   "execution_count": null,
   "id": "9a0f5bca",
   "metadata": {},
   "outputs": [],
   "source": [
    "# Calculate the mean rating excluding 0/10 ratings\n",
    "mean_rating = dataset[dataset['Rating'] > 0]['Rating'].mean()\n",
    "\n",
    "# Impute 0/10 ratings with the mean rating\n",
    "dataset.loc[dataset['Rating'] == 0, 'Rating'] = int(mean_rating)"
   ]
  },
  {
   "cell_type": "code",
   "execution_count": null,
   "id": "76057b5e",
   "metadata": {},
   "outputs": [],
   "source": [
    "plt.figure(figsize=(8, 6))\n",
    "plt.hist(dataset['Rating'], bins=10, color='skyblue', edgecolor='black')\n",
    "plt.title('Histogram of Imputed Ratings')\n",
    "plt.xlabel('Rating')\n",
    "plt.ylabel('Frequency')\n",
    "plt.grid(True)\n",
    "plt.show()"
   ]
  },
  {
   "cell_type": "markdown",
   "id": "dc9b90e6",
   "metadata": {},
   "source": [
    "Now we have a more usual distribution of the data, as it is still highly left skewed, we can still try to normalize it even though it is not really necessary for the project. \n",
    "\n",
    "I will use the cox box transformation because it can automatically determine the best transformation parameter to make the data more normally distributed: "
   ]
  },
  {
   "cell_type": "code",
   "execution_count": null,
   "id": "3da2556c",
   "metadata": {},
   "outputs": [],
   "source": [
    "import numpy as np\n",
    "from scipy.stats import boxcox\n",
    "\n",
    "# Check for negative or zero values in the column (Box-Cox transformation requires strictly positive values)\n",
    "if (dataset['Rating'] <= 0).any():\n",
    "    # Add a constant to make all values positive\n",
    "    dataset['Rating'] += abs(dataset['Rating'].min()) + 1\n",
    "\n",
    "# Apply the Box-Cox transformation\n",
    "transformed_ratings, lambda_value = boxcox(dataset['Rating'])\n",
    "\n",
    "# Update the 'Rating' column with the transformed values\n",
    "dataset['Transformed_Rating'] = transformed_ratings\n",
    "\n",
    "# Print the lambda value used in the transformation\n",
    "print(\"Lambda value:\", lambda_value)"
   ]
  },
  {
   "cell_type": "markdown",
   "id": "1def1ce1",
   "metadata": {},
   "source": [
    "The lambda value returned by the Box-Cox transformation is approximately 2, it suggests that a square transformation was applied to the data. This means that each data point was raised to the power of 2.\n",
    "\n",
    "Let's plot it again to see how it looks like now:"
   ]
  },
  {
   "cell_type": "code",
   "execution_count": null,
   "id": "33aa2a4e",
   "metadata": {},
   "outputs": [],
   "source": [
    "# Plot histogram of transformed ratings\n",
    "plt.figure(figsize=(8, 6))\n",
    "sns.histplot(transformed_ratings, bins=100, kde=True)\n",
    "plt.title('Histogram of Transformed Ratings')\n",
    "plt.xlabel('Transformed Ratings')\n",
    "plt.ylabel('Frequency')\n",
    "plt.show()"
   ]
  },
  {
   "cell_type": "markdown",
   "id": "fd467459",
   "metadata": {},
   "source": [
    "While the transformation has made the distribution less skewed, it hasn't achieved a perfect normal distribution. But this seems quite alright considering the scope of the project."
   ]
  },
  {
   "cell_type": "markdown",
   "id": "11d49b25",
   "metadata": {},
   "source": [
    "## Sentiment Analysis"
   ]
  },
  {
   "cell_type": "markdown",
   "id": "11e8836e",
   "metadata": {},
   "source": [
    "In this section, we will perfom some sentiment analysis on the summary section of the dataset to find out any hidden insights on the data: "
   ]
  },
  {
   "cell_type": "code",
   "execution_count": null,
   "id": "14a6b88b",
   "metadata": {},
   "outputs": [],
   "source": [
    "dataset.head()"
   ]
  },
  {
   "cell_type": "code",
   "execution_count": null,
   "id": "68a8d4ff",
   "metadata": {},
   "outputs": [],
   "source": [
    "import nltk\n",
    "from nltk.sentiment.vader import SentimentIntensityAnalyzer\n",
    "from nltk.corpus import stopwords\n",
    "from nltk.tokenize import word_tokenize\n",
    "import string"
   ]
  },
  {
   "cell_type": "code",
   "execution_count": null,
   "id": "8763f81d",
   "metadata": {},
   "outputs": [],
   "source": [
    "# Download NLTK resources\n",
    "#nltk.download('vader_lexicon')\n",
    "#nltk.download('stopwords')\n",
    "#nltk.download('punkt')"
   ]
  },
  {
   "cell_type": "markdown",
   "id": "d89546e9",
   "metadata": {},
   "source": [
    "Given the dataset's size, I'll opt to work with a random sample as performing sentiment analysis on the entire dataset would exceed my computational capacities."
   ]
  },
  {
   "cell_type": "code",
   "execution_count": null,
   "id": "054b92a0",
   "metadata": {},
   "outputs": [],
   "source": [
    "# Take a random sample of the dataset\n",
    "random_sample = dataset.sample(n=100000, random_state=42) \n",
    "random_sample['Rating'] = random_sample['Rating'].astype(int)\n"
   ]
  },
  {
   "cell_type": "code",
   "execution_count": null,
   "id": "05eb41d8",
   "metadata": {},
   "outputs": [],
   "source": [
    "# Step 1: Tokenization\n",
    "random_sample['clean_summary'] = random_sample['Summary'].apply(word_tokenize)"
   ]
  },
  {
   "cell_type": "code",
   "execution_count": null,
   "id": "6988476c",
   "metadata": {},
   "outputs": [],
   "source": [
    "# Step 2: Convert to lowercase and remove punctuation\n",
    "random_sample['clean_summary'] = random_sample['clean_summary'].apply(lambda x: [word.lower() for word in x if word.isalpha()])"
   ]
  },
  {
   "cell_type": "code",
   "execution_count": null,
   "id": "f6863e63",
   "metadata": {},
   "outputs": [],
   "source": [
    "# Step 3: Remove stopwords\n",
    "stop_words = set(stopwords.words('english'))\n",
    "random_sample['clean_summary'] = random_sample['clean_summary'].apply(lambda x: [word for word in x if word not in stop_words])"
   ]
  },
  {
   "cell_type": "code",
   "execution_count": null,
   "id": "5729cdd6",
   "metadata": {},
   "outputs": [],
   "source": [
    "# Step 4: Join tokens back into a single string\n",
    "random_sample['clean_summary'] = random_sample['clean_summary'].apply(lambda x: ' '.join(x))"
   ]
  },
  {
   "cell_type": "code",
   "execution_count": null,
   "id": "d0394edd",
   "metadata": {},
   "outputs": [],
   "source": [
    "# Sentiment analysis using VADER\n",
    "sid = SentimentIntensityAnalyzer()\n",
    "random_sample['sentiment_score'] = random_sample['clean_summary'].apply(lambda x: sid.polarity_scores(x)['compound'])"
   ]
  },
  {
   "cell_type": "code",
   "execution_count": null,
   "id": "c1f9fcde",
   "metadata": {},
   "outputs": [],
   "source": [
    "# Categorize the summaries into positive and negative based on sentiment score\n",
    "random_sample['sentiment_category'] = random_sample['sentiment_score'].apply(lambda x: 'positive' if x >= 0 else 'negative')"
   ]
  },
  {
   "cell_type": "markdown",
   "id": "1f32e684",
   "metadata": {},
   "source": [
    "Now I have successfully performed sentiment analysis on the Summary column of my dataset and then classified the column into two categories: Negative sentiment and Positive sentiment.\n",
    "\n",
    "The goal here is to find out if there is any correlation between the rating the users wrote and the sentiment of the book, so i will plot the average sentiment score in each rating category and vizualise the relationship:"
   ]
  },
  {
   "cell_type": "code",
   "execution_count": null,
   "id": "d49f9fb5",
   "metadata": {},
   "outputs": [],
   "source": [
    "# Create a countplot for all ratings\n",
    "plt.figure(figsize=(8, 6))\n",
    "sns.countplot(data=random_sample, x='Rating', hue='sentiment_category', palette={'positive': 'green', 'negative': 'red'})\n",
    "plt.title('Distribution of Ratings')\n",
    "plt.xlabel('Rating')\n",
    "plt.ylabel('Frequency')\n",
    "plt.legend(title='Sentiment')\n",
    "plt.show()\n"
   ]
  },
  {
   "cell_type": "code",
   "execution_count": null,
   "id": "37466fa4",
   "metadata": {},
   "outputs": [],
   "source": [
    "# Calculate average sentiment score for each rating category\n",
    "average_sentiment_by_rating = random_sample.groupby('Rating')['sentiment_score'].mean().reset_index()\n",
    "\n",
    "# Plot the relationship between ratings and average sentiment score\n",
    "plt.figure(figsize=(10, 6))\n",
    "sns.lineplot(data=average_sentiment_by_rating, x='Rating', y='sentiment_score', marker='o')\n",
    "plt.title('Relationship between Ratings and Average Sentiment Score')\n",
    "plt.xlabel('Rating')\n",
    "plt.ylabel('Average Sentiment Score')\n",
    "plt.grid(True)\n",
    "plt.show()"
   ]
  },
  {
   "cell_type": "markdown",
   "id": "88e8cb31",
   "metadata": {},
   "source": [
    "In the plot, we observe a trend where lower ratings (1-3) tend to correspond to higher average sentiment scores, indicating that books receiving lower ratings are associated with more positive sentiment. As the ratings increase to 4 and 5, the average sentiment score decreases to near zero. This trend aligns with expectations, as higher ratings typically suggest a more neutral or satisfactory opinion towards the book, resulting in lower sentiment scores.\n",
    "\n",
    "Moreover, we notice another increase in average sentiment scores as ratings approach their highest values (6-10). This uptick suggests that books receiving higher ratings tend to elicit stronger positive sentiments from readers.\n",
    "\n",
    "However, it's important to note that the overall average sentiment score across all rating categories is relatively low. This implies that while there are instances of both positive and negative sentiment across all rating categories, the sentiment conveyed by a book may not strongly influence the rating given by users. Instead, user ratings appear to be driven more by personal preference or other factors beyond the sentiment conveyed by the book.\n",
    "\n",
    "\n",
    "We can further explore by plotting the average sentiment score against the year of publication, providing insights into how the authors and trends of books have evolved over time."
   ]
  },
  {
   "cell_type": "code",
   "execution_count": null,
   "id": "73d4763c",
   "metadata": {},
   "outputs": [],
   "source": [
    "# Calculate the average sentiment score for books published in each year\n",
    "average_sentiment_by_year = random_sample.groupby('Year_of_publication')['sentiment_score'].mean()\n",
    "\n",
    "# Plot the average sentiment scores\n",
    "plt.figure(figsize=(12, 6))\n",
    "sns.lineplot(data=average_sentiment_by_year)\n",
    "plt.title('Average Sentiment Score by Year of Publication')\n",
    "plt.xlabel('Year of Publication')\n",
    "plt.ylabel('Average Sentiment Score')\n",
    "plt.xticks(rotation=45)\n",
    "plt.grid(True)\n",
    "plt.show()"
   ]
  },
  {
   "cell_type": "markdown",
   "id": "dd80691b",
   "metadata": {},
   "source": [
    "it's fascinating to observe the evolution of sentiments depicted in books over time. Initially, we see a wide range of sentiments, ranging from strongly negative (close to -1) to strongly positive (up to +0.75). However, as we progress through the years, particularly by the 1980s, there is a noticeable shift towards more neutral sentiments, with the majority of books hovering around a sentiment score of 0.0. \n",
    "\n",
    "This transition may reflect changing societal attitudes, literary trends, or shifts in authorial perspectives across different eras. For example it is noteable that during the 1920s and the 1940 happened the great economic depression and the world war II, which could explain why there was such strong negative sentiment books published during that time.\n",
    "\n",
    "We can even try to plot the sentiment scores of the most popular books in this dataset to see if popularity is related to the sentiment: "
   ]
  },
  {
   "cell_type": "code",
   "execution_count": null,
   "id": "e99fe6ca",
   "metadata": {},
   "outputs": [],
   "source": [
    "# Calculate popularity based on the number of ratings\n",
    "popularity = random_sample['Book_title'].value_counts()\n",
    "\n",
    "# Select the top 10 most popular books\n",
    "top_10_books = popularity.head(10).index\n",
    "\n",
    "# Calculate the average sentiment score for each of the top 10 books\n",
    "average_sentiment = []\n",
    "for book_title in top_10_books:\n",
    "    avg_sentiment = random_sample[random_sample['Book_title'] == book_title]['sentiment_score'].mean()\n",
    "    average_sentiment.append(avg_sentiment)\n",
    "\n",
    "# Plot the average sentiment score for each book\n",
    "plt.figure(figsize=(10, 6))\n",
    "sns.barplot(x=top_10_books, y=average_sentiment, palette='viridis')\n",
    "plt.title('Average Sentiment Score of Top 10 Most Popular Books')\n",
    "plt.xlabel('Book Title')\n",
    "plt.ylabel('Average Sentiment Score')\n",
    "plt.xticks(rotation=45, ha='right')\n",
    "plt.tight_layout()\n",
    "plt.show()\n",
    "\n"
   ]
  },
  {
   "cell_type": "code",
   "execution_count": null,
   "id": "e9df3a28",
   "metadata": {},
   "outputs": [],
   "source": []
  },
  {
   "cell_type": "markdown",
   "id": "3e485a53",
   "metadata": {},
   "source": [
    "## Book Recommendation System"
   ]
  },
  {
   "cell_type": "markdown",
   "id": "b3c13c5b",
   "metadata": {},
   "source": [
    "Now we can start building our recommendation system, we will start by some user-based filtering and then some content-based filtering: "
   ]
  },
  {
   "cell_type": "markdown",
   "id": "bccf09c2",
   "metadata": {},
   "source": [
    "## User-Based filtering"
   ]
  },
  {
   "cell_type": "markdown",
   "id": "70191428",
   "metadata": {},
   "source": [
    "This approach recommends items to users based on the preferences of similar users. It identifies users who have similar preferences or behaviors and recommends items that those similar users have liked or interacted with."
   ]
  },
  {
   "cell_type": "markdown",
   "id": "cb5137da",
   "metadata": {},
   "source": [
    "Here again, I will start by taking a new sample of my original dataset because I cannot use a big sample size due to my limited computatonal capacities: "
   ]
  },
  {
   "cell_type": "code",
   "execution_count": null,
   "id": "cd2f7de3",
   "metadata": {
    "scrolled": false
   },
   "outputs": [],
   "source": [
    "# Take a random sample of the dataset\n",
    "random_sample2 = random_sample.sample(n=10000, random_state=51)  \n",
    "random_sample2.head()"
   ]
  },
  {
   "cell_type": "markdown",
   "id": "b3f01645",
   "metadata": {},
   "source": [
    "I chose to perfom a user-based filtering model to generate recommendations for a given user (here i used the user_id 30487 for the example) based on the cosine similarity between users. \n"
   ]
  },
  {
   "cell_type": "code",
   "execution_count": null,
   "id": "f99a2f20",
   "metadata": {},
   "outputs": [],
   "source": [
    "from sklearn.metrics.pairwise import cosine_similarity\n",
    "\n",
    "# Step 1: Compute User Similarity Matrix\n",
    "user_item_matrix = random_sample2.pivot_table(index='User_id', columns='Book_title', values='Rating').fillna(0)\n",
    "user_similarity = cosine_similarity(user_item_matrix)\n",
    "\n",
    "# Step 2: Find Similar Users\n",
    "def get_similar_users(user_id, user_similarity_matrix, n_similar_users=10):\n",
    "    user_index = user_item_matrix.index.get_loc(user_id)\n",
    "    similar_users_indices = user_similarity_matrix[user_index].argsort()[::-1][1:n_similar_users+1]\n",
    "    similar_users = user_item_matrix.iloc[similar_users_indices].index.tolist()\n",
    "    return similar_users\n",
    "\n",
    "# Step 3: Generate Recommendations\n",
    "def generate_recommendations(user_id, similar_users, n_recommendations=10):\n",
    "    user_ratings = user_item_matrix.loc[user_id]\n",
    "    similar_users_ratings = user_item_matrix.loc[similar_users]\n",
    "    # Compute mean ratings of similar users\n",
    "    similar_users_mean_ratings = similar_users_ratings.mean(axis=0)\n",
    "    # Filter items that the user hasn't interacted with\n",
    "    unseen_items = user_ratings[user_ratings == 0].index\n",
    "    # Get top N recommendations based on mean ratings of similar users\n",
    "    recommendations = similar_users_mean_ratings[unseen_items].sort_values(ascending=False)[:n_recommendations]\n",
    "    # Convert recommendations to DataFrame\n",
    "    recommendations_df = pd.DataFrame({'Book_title': recommendations.index, 'recommendation_score': recommendations.values})\n",
    "    return recommendations_df\n",
    "\n",
    "# Example: Generate recommendations for a user\n",
    "user_id = 21014  # User ID for whom recommendations will be generated\n",
    "similar_users = get_similar_users(user_id, user_similarity)\n",
    "recommendations = generate_recommendations(user_id, similar_users)\n",
    "recommendations.head(10)"
   ]
  },
  {
   "cell_type": "markdown",
   "id": "4ee189b5",
   "metadata": {},
   "source": [
    "Here we can see the top 10 books recommended for this user, each one with a specific recommendation score, which is pretty high for all books, hinting that our recommendation system is working properly. \n",
    "\n",
    "This can likely be attributed to my decision to restrict the dataset to users exclusively from the USA and Canada, which results in a more focused recommendation system, offering more tailored choices to users.\n",
    "\n",
    "Let's now properly evaluate its performance:"
   ]
  },
  {
   "cell_type": "markdown",
   "id": "b528c820",
   "metadata": {},
   "source": [
    "## Evaluation"
   ]
  },
  {
   "cell_type": "code",
   "execution_count": null,
   "id": "a26869eb",
   "metadata": {},
   "outputs": [],
   "source": [
    "def evaluate_recommendations(recommended_books, relevant_books):\n",
    "    recommended_set = set(recommended_books['Book_title'])\n",
    "    relevant_set = set(relevant_books['Book_title'])\n",
    "    \n",
    "    # Calculate precision\n",
    "    precision = len(recommended_set.intersection(relevant_set)) / len(recommended_set)\n",
    "    \n",
    "    # Calculate recall\n",
    "    recall = len(recommended_set.intersection(relevant_set)) / len(relevant_set)\n",
    "    \n",
    "    return precision, recall\n",
    "\n",
    "# Example usage:\n",
    "precision, recall = evaluate_recommendations(recommendations, random_sample)\n",
    "print(\"Precision:\", precision)\n",
    "print(\"Recall:\", recall)\n"
   ]
  },
  {
   "cell_type": "markdown",
   "id": "1e7af3de",
   "metadata": {},
   "source": [
    "Precision indicates the proportion of correctly recommended items among all the items recommended. A precision of 1.0 means that all recommended items were relevant to the user.\n",
    "\n",
    "Recall, on the other hand, measures the proportion of relevant items that were successfully recommended. A recall of 0.001 indicates that only a very small fraction of relevant items were successfully recommended.\n",
    "\n",
    "While achieving a precision of 1.0 is desirable, the low recall suggests that the recommendation system may not be effectively capturing all relevant items for the user. This could be due to the fact that i am only recommending 10 books out of the whole dataset. Increasing that number significantly increases the recall."
   ]
  },
  {
   "cell_type": "markdown",
   "id": "e5c9ea9b",
   "metadata": {},
   "source": [
    "## Content-Based Filtering "
   ]
  },
  {
   "cell_type": "markdown",
   "id": "7d659d5a",
   "metadata": {},
   "source": [
    "This approach recommends books to users based on the features of the items and the user's preferences. It focuses on the content of the items and matches them to the user's profile. For example, it might recommend books with similar topics, genres, or authors to those the user has previously liked.\n",
    "\n",
    "The features I chose are: the book titles, book authors, book categories\n",
    "\n",
    "We will change the features if we see that they aren't much relevant for recommendations, and chose new ones to increase the recommendation scores: "
   ]
  },
  {
   "cell_type": "code",
   "execution_count": null,
   "id": "89f291e6",
   "metadata": {},
   "outputs": [],
   "source": [
    "from sklearn.feature_extraction.text import TfidfVectorizer\n",
    "\n",
    "\n",
    "# 2. Feature Extraction\n",
    "tfidf_vectorizer = TfidfVectorizer(stop_words='english')\n",
    "tfidf_matrix = tfidf_vectorizer.fit_transform(random_sample2['Book_title'] + random_sample2['Book_author']  + random_sample2['Category'])\n",
    "\n",
    "# 3. User Profiling\n",
    "user_profiles = {}\n",
    "for user_id, user_data in random_sample.groupby('User_id'):\n",
    "    user_vector = tfidf_vectorizer.transform(user_data['Book_title'] + user_data['Book_author'] + user_data['clean_summary'])\n",
    "    user_profile = user_vector.mean(axis=0)\n",
    "    user_profiles[user_id] = user_profile\n",
    "\n",
    "\n",
    "def recommend_books(user_id, n_recommendations=10):\n",
    "    user_profile = user_profiles[user_id]\n",
    "    similarity_scores = cosine_similarity(user_profile, tfidf_matrix)\n",
    "    top_indices = similarity_scores.argsort(axis=1)[0][-2*n_recommendations:][::-1]  # Fetch double the recommendations\n",
    "    recommended_books = random_sample.iloc[top_indices]\n",
    "    recommended_books['recommendation_score'] = similarity_scores[0, top_indices]  # Add recommendation scores\n",
    "    recommended_books = recommended_books[['Book_title', 'recommendation_score']]  # Selecting relevant columns\n",
    "    # Remove duplicate entries and keep only unique books with highest recommendation scores\n",
    "    recommended_books = recommended_books.drop_duplicates(subset=['Book_title']).sort_values(by='recommendation_score', ascending=False)\n",
    "    # Ensure that we still have exactly n_recommendations after dropping duplicates\n",
    "    recommended_books = recommended_books.head(n_recommendations)\n",
    "    return recommended_books\n",
    "\n",
    "# Example: Generate recommendations for a user\n",
    "user_id = 21014\n",
    "recommended_books = recommend_books(user_id)\n",
    "recommended_books.head(10)"
   ]
  },
  {
   "cell_type": "markdown",
   "id": "95990a29",
   "metadata": {},
   "source": [
    "The recommendation scores are pretty low, so let's change the features and see what happens. \n",
    "\n",
    "Instead of using book categories as feature, let's use book summaries instead. \n",
    "\n",
    "Since we have already processed and cleaned the summaries it will be easy for us to include it here: "
   ]
  },
  {
   "cell_type": "code",
   "execution_count": null,
   "id": "4cce31c7",
   "metadata": {},
   "outputs": [],
   "source": [
    "# 2. Feature Extraction\n",
    "tfidf_vectorizer = TfidfVectorizer(stop_words='english')\n",
    "tfidf_matrix = tfidf_vectorizer.fit_transform(random_sample2['Book_title'] + random_sample2['Book_author']  + random_sample2['clean_summary'])\n",
    "\n",
    "# 3. User Profiling\n",
    "user_profiles = {}\n",
    "for user_id, user_data in random_sample.groupby('User_id'):\n",
    "    user_vector = tfidf_vectorizer.transform(user_data['Book_title'] + user_data['Book_author'] + user_data['clean_summary'])\n",
    "    user_profile = user_vector.mean(axis=0)\n",
    "    user_profiles[user_id] = user_profile\n",
    "\n",
    "\n",
    "def recommend_books(user_id, n_recommendations=10):\n",
    "    user_profile = user_profiles[user_id]\n",
    "    similarity_scores = cosine_similarity(user_profile, tfidf_matrix)\n",
    "    top_indices = similarity_scores.argsort(axis=1)[0][-2*n_recommendations:][::-1]  # Fetch double the recommendations\n",
    "    recommended_books = random_sample.iloc[top_indices]\n",
    "    recommended_books['recommendation_score'] = similarity_scores[0, top_indices]  # Add recommendation scores\n",
    "    recommended_books = recommended_books[['Book_title', 'recommendation_score']]  # Selecting relevant columns\n",
    "    # Remove duplicate entries and keep only unique books with highest recommendation scores\n",
    "    recommended_books = recommended_books.drop_duplicates(subset=['Book_title']).sort_values(by='recommendation_score', ascending=False)\n",
    "    # Ensure that we still have exactly n_recommendations after dropping duplicates\n",
    "    recommended_books = recommended_books.head(n_recommendations)\n",
    "    return recommended_books\n",
    "\n",
    "# Example: Generate recommendations for a user\n",
    "user_id = 21014\n",
    "recommended_books = recommend_books(user_id)\n",
    "recommended_books.head(10)"
   ]
  },
  {
   "cell_type": "markdown",
   "id": "29ba3af7",
   "metadata": {},
   "source": [
    "Good for us, the recommendation scores increased a little more, let's leave it this way. "
   ]
  },
  {
   "cell_type": "markdown",
   "id": "5dd14300",
   "metadata": {},
   "source": [
    "## Evaluation"
   ]
  },
  {
   "cell_type": "code",
   "execution_count": null,
   "id": "552a37aa",
   "metadata": {},
   "outputs": [],
   "source": [
    "def evaluate_recommendations(recommended_books, relevant_books):\n",
    "    recommended_set = set(recommended_books['Book_title'])\n",
    "    relevant_set = set(relevant_books['Book_title'])\n",
    "    \n",
    "    # Calculate precision\n",
    "    precision = len(recommended_set.intersection(relevant_set)) / len(recommended_set)\n",
    "    \n",
    "    # Calculate recall\n",
    "    recall = len(recommended_set.intersection(relevant_set)) / len(relevant_set)\n",
    "    \n",
    "    return precision, recall\n",
    "\n",
    "# Example: recommended_books is the DataFrame containing recommended books,\n",
    "# and relevant_books is the DataFrame containing relevant books (ground truth).\n",
    "precision, recall = evaluate_recommendations(recommended_books, random_sample)\n",
    "print(\"Precision:\", precision)\n",
    "print(\"Recall:\", recall)"
   ]
  },
  {
   "cell_type": "markdown",
   "id": "4ab1b617",
   "metadata": {},
   "source": [
    "Again, just like the user-based filtering, the precision is 1.0 and the recall is very low, but it is probably due to recommending only 10 books only over 10000 books."
   ]
  },
  {
   "cell_type": "markdown",
   "id": "44d3b29b",
   "metadata": {},
   "source": [
    "## Hybridization Strategy:"
   ]
  },
  {
   "cell_type": "markdown",
   "id": "242f7746",
   "metadata": {},
   "source": [
    "Hybrid recommendation systems can be designed to adapt to different user preferences and recommendation contexts. By incorporating multiple recommendation strategies, the system can tailor recommendations based on user behavior, item attributes, and contextual factors, leading to a more personalized user experience.\n",
    "\n",
    "\n",
    "The first strategy would be to perform both user-based and content-based filtering and just select any common books between the two types of recommendations. If there are no common books between the two, we can just proceed with the second strategy.\n",
    "\n",
    "The second strategy would be to create a function that selects the recommendation technique (content-based or user-based filtering) based on the number of interactions the user has, and then returns the recommended books accordingly.\n",
    "\n",
    "User-based filtering leverages user-item interactions across the entire user base to identify similar users and generate recommendations based on their preferences. This approach requires a substantial amount of interaction data to effectively identify patterns and similarities between users. When a user has a significant number of interactions surpassing a certain threshold, user-based filtering is more likely to offer accurate and diverse recommendations by harnessing the collective preferences of the user community. However, when it not surpassing the threshhold, content-based filtering will be used."
   ]
  },
  {
   "cell_type": "code",
   "execution_count": null,
   "id": "348d8444",
   "metadata": {},
   "outputs": [],
   "source": [
    "#First strategy\n",
    "\n",
    "# Convert the book titles from both recommendation sets to sets\n",
    "recommendations_set = set(recommendations['Book_title'])\n",
    "recommended_books_set = set(recommended_books['Book_title'])\n",
    "\n",
    "# Find common books between the two sets\n",
    "common_books = recommendations_set.intersection(recommended_books_set)\n",
    "\n",
    "# Convert the common books back to a DataFrame if needed\n",
    "common_books_df = pd.DataFrame({'Book_title': list(common_books)})\n",
    "\n",
    "# Display the common books\n",
    "print(common_books_df)"
   ]
  },
  {
   "cell_type": "code",
   "execution_count": null,
   "id": "961e88ce",
   "metadata": {},
   "outputs": [],
   "source": [
    "#Second Strategy\n",
    "\n",
    "def get_num_interactions(user_id):\n",
    "    \"\"\"\n",
    "    Calculate the number of interactions for a given user.\n",
    "    \"\"\"\n",
    "    num_interactions = random_sample[random_sample['User_id'] == user_id].shape[0]\n",
    "    return num_interactions\n",
    "\n",
    "\n",
    "def recommend_books(user_id):\n",
    "    # Check the number of interactions for the user\n",
    "    num_interactions = get_num_interactions(user_id)  # Function to get the number of interactions\n",
    "    \n",
    "    # Set a threshold to determine when to switch techniques\n",
    "    interaction_threshold = 50\n",
    "    \n",
    "    # If the user has fewer interactions, use content-based filtering\n",
    "    if num_interactions < interaction_threshold:\n",
    "        return recommended_books  # Function for content-based recommendation\n",
    "    else:\n",
    "        return recommendations  # Function for collaborative filtering recommendation\n",
    "\n",
    "# Example usage\n",
    "user_id = 21014\n",
    "final_recommendation = recommend_books(user_id)\n",
    "final_recommendation.head(10)"
   ]
  },
  {
   "cell_type": "markdown",
   "id": "2358fd61",
   "metadata": {},
   "source": [
    "\n"
   ]
  },
  {
   "cell_type": "markdown",
   "id": "ac31c2f8",
   "metadata": {},
   "source": []
  },
  {
   "cell_type": "markdown",
   "id": "20fcf7d5",
   "metadata": {},
   "source": [
    "## Conclusion"
   ]
  },
  {
   "cell_type": "markdown",
   "id": "106accae",
   "metadata": {},
   "source": [
    "n this project, we embarked on a comprehensive journey to develop and evaluate a recommendation system tailored to the needs of our users. Beginning with exploratory data analysis (EDA), we meticulously scrutinized the dataset, addressing missing values, outliers, and anomalies or errors to ensure data integrity and reliability.Then we meticulously plotted the variables and the relationships between variable to try and gain the most insights on our data as possible. Additionally, we conducted sentiment analysis to gain insights into user preferences and emotions towards the content.\n",
    "\n",
    "Our recommendation system employed two fundamental approaches: user-based filtering and content-based filtering. Through rigorous evaluation, both models exhibited commendable precision scores of 1.0. However, the recall metric, although modest at 0.001 initially, improved significantly when we increased the number of recommended books. This observation underscores the importance of considering the entire breadth of the dataset when evaluating recommendation system performance.\n",
    "\n",
    "To further optimize our system, we strategically refined the features used in content-based filtering, resulting in enhanced recommendation scores for certain books. Leveraging a hybridization strategy, we combined the strengths of both filtering approaches, ensuring robust recommendations that encompassed diverse user preferences and content attributes. In instances where common recommendations were absent, we dynamically selected the most suitable filtering method based on user interaction thresholds, recognizing that user-based filtering excels with ample user engagement.\n",
    "\n",
    "Beyond the technical enhancements, our project underscores the iterative nature of recommendation system development. Continual refinement and adaptation are essential to meet evolving user needs and preferences. Future directions may involve exploring advanced modeling techniques, integrating additional data sources, or implementing real-time feedback mechanisms to further enhance recommendation accuracy and user satisfaction.\n",
    "\n"
   ]
  },
  {
   "cell_type": "code",
   "execution_count": null,
   "id": "1786cd0e",
   "metadata": {},
   "outputs": [],
   "source": []
  }
 ],
 "metadata": {
  "kernelspec": {
   "display_name": "Python 3 (ipykernel)",
   "language": "python",
   "name": "python3"
  },
  "language_info": {
   "codemirror_mode": {
    "name": "ipython",
    "version": 3
   },
   "file_extension": ".py",
   "mimetype": "text/x-python",
   "name": "python",
   "nbconvert_exporter": "python",
   "pygments_lexer": "ipython3",
   "version": "3.9.7"
  }
 },
 "nbformat": 4,
 "nbformat_minor": 5
}
